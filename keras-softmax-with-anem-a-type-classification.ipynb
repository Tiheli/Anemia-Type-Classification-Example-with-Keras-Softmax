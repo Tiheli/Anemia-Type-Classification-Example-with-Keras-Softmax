{
 "cells": [
  {
   "cell_type": "code",
   "execution_count": 1,
   "id": "f7d919c3",
   "metadata": {
    "_cell_guid": "b1076dfc-b9ad-4769-8c92-a6c4dae69d19",
    "_uuid": "8f2839f25d086af736a60e9eeb907d3b93b6e0e5",
    "execution": {
     "iopub.execute_input": "2024-12-05T19:26:09.057141Z",
     "iopub.status.busy": "2024-12-05T19:26:09.056634Z",
     "iopub.status.idle": "2024-12-05T19:26:10.014571Z",
     "shell.execute_reply": "2024-12-05T19:26:10.013025Z"
    },
    "papermill": {
     "duration": 0.967287,
     "end_time": "2024-12-05T19:26:10.017369",
     "exception": false,
     "start_time": "2024-12-05T19:26:09.050082",
     "status": "completed"
    },
    "tags": []
   },
   "outputs": [
    {
     "name": "stdout",
     "output_type": "stream",
     "text": [
      "/kaggle/input/anemia-types-classification/diagnosed_cbc_data_v4.csv\n"
     ]
    }
   ],
   "source": [
    "# This Python 3 environment comes with many helpful analytics libraries installed\n",
    "# It is defined by the kaggle/python Docker image: https://github.com/kaggle/docker-python\n",
    "# For example, here's several helpful packages to load\n",
    "\n",
    "import numpy as np # linear algebra\n",
    "import pandas as pd # data processing, CSV file I/O (e.g. pd.read_csv)\n",
    "\n",
    "# Input data files are available in the read-only \"../input/\" directory\n",
    "# For example, running this (by clicking run or pressing Shift+Enter) will list all files under the input directory\n",
    "\n",
    "import os\n",
    "for dirname, _, filenames in os.walk('/kaggle/input'):\n",
    "    for filename in filenames:\n",
    "        print(os.path.join(dirname, filename))\n",
    "\n",
    "# You can write up to 20GB to the current directory (/kaggle/working/) that gets preserved as output when you create a version using \"Save & Run All\" \n",
    "# You can also write temporary files to /kaggle/temp/, but they won't be saved outside of the current session"
   ]
  },
  {
   "cell_type": "code",
   "execution_count": 2,
   "id": "b517e1f6",
   "metadata": {
    "execution": {
     "iopub.execute_input": "2024-12-05T19:26:10.030163Z",
     "iopub.status.busy": "2024-12-05T19:26:10.028939Z",
     "iopub.status.idle": "2024-12-05T19:26:10.085451Z",
     "shell.execute_reply": "2024-12-05T19:26:10.084469Z"
    },
    "papermill": {
     "duration": 0.064963,
     "end_time": "2024-12-05T19:26:10.087983",
     "exception": false,
     "start_time": "2024-12-05T19:26:10.023020",
     "status": "completed"
    },
    "tags": []
   },
   "outputs": [
    {
     "data": {
      "text/html": [
       "<div>\n",
       "<style scoped>\n",
       "    .dataframe tbody tr th:only-of-type {\n",
       "        vertical-align: middle;\n",
       "    }\n",
       "\n",
       "    .dataframe tbody tr th {\n",
       "        vertical-align: top;\n",
       "    }\n",
       "\n",
       "    .dataframe thead th {\n",
       "        text-align: right;\n",
       "    }\n",
       "</style>\n",
       "<table border=\"1\" class=\"dataframe\">\n",
       "  <thead>\n",
       "    <tr style=\"text-align: right;\">\n",
       "      <th></th>\n",
       "      <th>WBC</th>\n",
       "      <th>LYMp</th>\n",
       "      <th>NEUTp</th>\n",
       "      <th>LYMn</th>\n",
       "      <th>NEUTn</th>\n",
       "      <th>RBC</th>\n",
       "      <th>HGB</th>\n",
       "      <th>HCT</th>\n",
       "      <th>MCV</th>\n",
       "      <th>MCH</th>\n",
       "      <th>MCHC</th>\n",
       "      <th>PLT</th>\n",
       "      <th>PDW</th>\n",
       "      <th>PCT</th>\n",
       "      <th>Diagnosis</th>\n",
       "    </tr>\n",
       "  </thead>\n",
       "  <tbody>\n",
       "    <tr>\n",
       "      <th>0</th>\n",
       "      <td>10.0</td>\n",
       "      <td>43.2</td>\n",
       "      <td>50.1</td>\n",
       "      <td>4.3</td>\n",
       "      <td>5.0</td>\n",
       "      <td>2.77</td>\n",
       "      <td>7.3</td>\n",
       "      <td>24.2</td>\n",
       "      <td>87.7</td>\n",
       "      <td>26.3</td>\n",
       "      <td>30.1</td>\n",
       "      <td>189.0</td>\n",
       "      <td>12.5</td>\n",
       "      <td>0.17</td>\n",
       "      <td>Normocytic hypochromic anemia</td>\n",
       "    </tr>\n",
       "    <tr>\n",
       "      <th>1</th>\n",
       "      <td>10.0</td>\n",
       "      <td>42.4</td>\n",
       "      <td>52.3</td>\n",
       "      <td>4.2</td>\n",
       "      <td>5.3</td>\n",
       "      <td>2.84</td>\n",
       "      <td>7.3</td>\n",
       "      <td>25.0</td>\n",
       "      <td>88.2</td>\n",
       "      <td>25.7</td>\n",
       "      <td>20.2</td>\n",
       "      <td>180.0</td>\n",
       "      <td>12.5</td>\n",
       "      <td>0.16</td>\n",
       "      <td>Normocytic hypochromic anemia</td>\n",
       "    </tr>\n",
       "    <tr>\n",
       "      <th>2</th>\n",
       "      <td>7.2</td>\n",
       "      <td>30.7</td>\n",
       "      <td>60.7</td>\n",
       "      <td>2.2</td>\n",
       "      <td>4.4</td>\n",
       "      <td>3.97</td>\n",
       "      <td>9.0</td>\n",
       "      <td>30.5</td>\n",
       "      <td>77.0</td>\n",
       "      <td>22.6</td>\n",
       "      <td>29.5</td>\n",
       "      <td>148.0</td>\n",
       "      <td>14.3</td>\n",
       "      <td>0.14</td>\n",
       "      <td>Iron deficiency anemia</td>\n",
       "    </tr>\n",
       "    <tr>\n",
       "      <th>3</th>\n",
       "      <td>6.0</td>\n",
       "      <td>30.2</td>\n",
       "      <td>63.5</td>\n",
       "      <td>1.8</td>\n",
       "      <td>3.8</td>\n",
       "      <td>4.22</td>\n",
       "      <td>3.8</td>\n",
       "      <td>32.8</td>\n",
       "      <td>77.9</td>\n",
       "      <td>23.2</td>\n",
       "      <td>29.8</td>\n",
       "      <td>143.0</td>\n",
       "      <td>11.3</td>\n",
       "      <td>0.12</td>\n",
       "      <td>Iron deficiency anemia</td>\n",
       "    </tr>\n",
       "    <tr>\n",
       "      <th>4</th>\n",
       "      <td>4.2</td>\n",
       "      <td>39.1</td>\n",
       "      <td>53.7</td>\n",
       "      <td>1.6</td>\n",
       "      <td>2.3</td>\n",
       "      <td>3.93</td>\n",
       "      <td>0.4</td>\n",
       "      <td>316.0</td>\n",
       "      <td>80.6</td>\n",
       "      <td>23.9</td>\n",
       "      <td>29.7</td>\n",
       "      <td>236.0</td>\n",
       "      <td>12.8</td>\n",
       "      <td>0.22</td>\n",
       "      <td>Normocytic hypochromic anemia</td>\n",
       "    </tr>\n",
       "  </tbody>\n",
       "</table>\n",
       "</div>"
      ],
      "text/plain": [
       "    WBC  LYMp  NEUTp  LYMn  NEUTn   RBC  HGB    HCT   MCV   MCH  MCHC    PLT  \\\n",
       "0  10.0  43.2   50.1   4.3    5.0  2.77  7.3   24.2  87.7  26.3  30.1  189.0   \n",
       "1  10.0  42.4   52.3   4.2    5.3  2.84  7.3   25.0  88.2  25.7  20.2  180.0   \n",
       "2   7.2  30.7   60.7   2.2    4.4  3.97  9.0   30.5  77.0  22.6  29.5  148.0   \n",
       "3   6.0  30.2   63.5   1.8    3.8  4.22  3.8   32.8  77.9  23.2  29.8  143.0   \n",
       "4   4.2  39.1   53.7   1.6    2.3  3.93  0.4  316.0  80.6  23.9  29.7  236.0   \n",
       "\n",
       "    PDW   PCT                      Diagnosis  \n",
       "0  12.5  0.17  Normocytic hypochromic anemia  \n",
       "1  12.5  0.16  Normocytic hypochromic anemia  \n",
       "2  14.3  0.14         Iron deficiency anemia  \n",
       "3  11.3  0.12         Iron deficiency anemia  \n",
       "4  12.8  0.22  Normocytic hypochromic anemia  "
      ]
     },
     "execution_count": 2,
     "metadata": {},
     "output_type": "execute_result"
    }
   ],
   "source": [
    "# Quick view of dataset content and structure.\n",
    "df= pd.read_csv('/kaggle/input/anemia-types-classification/diagnosed_cbc_data_v4.csv')\n",
    "df.head()"
   ]
  },
  {
   "cell_type": "code",
   "execution_count": 3,
   "id": "ee2aabec",
   "metadata": {
    "execution": {
     "iopub.execute_input": "2024-12-05T19:26:10.098938Z",
     "iopub.status.busy": "2024-12-05T19:26:10.098563Z",
     "iopub.status.idle": "2024-12-05T19:26:25.402079Z",
     "shell.execute_reply": "2024-12-05T19:26:25.400978Z"
    },
    "papermill": {
     "duration": 15.311865,
     "end_time": "2024-12-05T19:26:25.404645",
     "exception": false,
     "start_time": "2024-12-05T19:26:10.092780",
     "status": "completed"
    },
    "tags": []
   },
   "outputs": [],
   "source": [
    "# Import necessary libraries for preprocessing, splitting data, and building the neural network.\n",
    "from sklearn.preprocessing import LabelEncoder\n",
    "from sklearn.model_selection import train_test_split\n",
    "from keras.models import Sequential\n",
    "from keras.layers import Dense\n",
    "from keras.utils import to_categorical"
   ]
  },
  {
   "cell_type": "code",
   "execution_count": 4,
   "id": "b442b571",
   "metadata": {
    "execution": {
     "iopub.execute_input": "2024-12-05T19:26:25.416940Z",
     "iopub.status.busy": "2024-12-05T19:26:25.416289Z",
     "iopub.status.idle": "2024-12-05T19:26:25.426864Z",
     "shell.execute_reply": "2024-12-05T19:26:25.425812Z"
    },
    "papermill": {
     "duration": 0.019783,
     "end_time": "2024-12-05T19:26:25.428998",
     "exception": false,
     "start_time": "2024-12-05T19:26:25.409215",
     "status": "completed"
    },
    "tags": []
   },
   "outputs": [],
   "source": [
    "y = df['Diagnosis']  # Target variable indicating the diagnosis.\n",
    "x = df.drop('Diagnosis', axis=1)  # Features used for prediction."
   ]
  },
  {
   "cell_type": "code",
   "execution_count": 5,
   "id": "9181d5ea",
   "metadata": {
    "execution": {
     "iopub.execute_input": "2024-12-05T19:26:25.439673Z",
     "iopub.status.busy": "2024-12-05T19:26:25.439246Z",
     "iopub.status.idle": "2024-12-05T19:26:25.446401Z",
     "shell.execute_reply": "2024-12-05T19:26:25.445277Z"
    },
    "papermill": {
     "duration": 0.014807,
     "end_time": "2024-12-05T19:26:25.448462",
     "exception": false,
     "start_time": "2024-12-05T19:26:25.433655",
     "status": "completed"
    },
    "tags": []
   },
   "outputs": [
    {
     "name": "stdout",
     "output_type": "stream",
     "text": [
      "0       Normocytic hypochromic anemia\n",
      "1       Normocytic hypochromic anemia\n",
      "2              Iron deficiency anemia\n",
      "3              Iron deficiency anemia\n",
      "4       Normocytic hypochromic anemia\n",
      "                    ...              \n",
      "1276                          Healthy\n",
      "1277                          Healthy\n",
      "1278                          Healthy\n",
      "1279                          Healthy\n",
      "1280                          Healthy\n",
      "Name: Diagnosis, Length: 1281, dtype: object\n"
     ]
    }
   ],
   "source": [
    "# Displays the target variable `y` to check its values and ensure correctness.\n",
    "print(y) # y"
   ]
  },
  {
   "cell_type": "code",
   "execution_count": 6,
   "id": "225d3843",
   "metadata": {
    "execution": {
     "iopub.execute_input": "2024-12-05T19:26:25.459614Z",
     "iopub.status.busy": "2024-12-05T19:26:25.458807Z",
     "iopub.status.idle": "2024-12-05T19:26:25.464100Z",
     "shell.execute_reply": "2024-12-05T19:26:25.463079Z"
    },
    "papermill": {
     "duration": 0.013229,
     "end_time": "2024-12-05T19:26:25.466208",
     "exception": false,
     "start_time": "2024-12-05T19:26:25.452979",
     "status": "completed"
    },
    "tags": []
   },
   "outputs": [],
   "source": [
    "# Encodes the target variable `y` into numeric values using LabelEncoder.\n",
    "# This converts the categorical labels into integers for model compatibility.\n",
    "le=LabelEncoder()\n",
    "y=le.fit_transform(y)"
   ]
  },
  {
   "cell_type": "code",
   "execution_count": 7,
   "id": "07075ed7",
   "metadata": {
    "execution": {
     "iopub.execute_input": "2024-12-05T19:26:25.476848Z",
     "iopub.status.busy": "2024-12-05T19:26:25.476457Z",
     "iopub.status.idle": "2024-12-05T19:26:25.484901Z",
     "shell.execute_reply": "2024-12-05T19:26:25.483832Z"
    },
    "papermill": {
     "duration": 0.016555,
     "end_time": "2024-12-05T19:26:25.487286",
     "exception": false,
     "start_time": "2024-12-05T19:26:25.470731",
     "status": "completed"
    },
    "tags": []
   },
   "outputs": [
    {
     "data": {
      "text/plain": [
       "array([5, 5, 1, ..., 0, 0, 0])"
      ]
     },
     "execution_count": 7,
     "metadata": {},
     "output_type": "execute_result"
    }
   ],
   "source": [
    "y"
   ]
  },
  {
   "cell_type": "code",
   "execution_count": 8,
   "id": "d125d433",
   "metadata": {
    "execution": {
     "iopub.execute_input": "2024-12-05T19:26:25.503257Z",
     "iopub.status.busy": "2024-12-05T19:26:25.502274Z",
     "iopub.status.idle": "2024-12-05T19:26:25.508271Z",
     "shell.execute_reply": "2024-12-05T19:26:25.507117Z"
    },
    "papermill": {
     "duration": 0.017634,
     "end_time": "2024-12-05T19:26:25.511572",
     "exception": false,
     "start_time": "2024-12-05T19:26:25.493938",
     "status": "completed"
    },
    "tags": []
   },
   "outputs": [],
   "source": [
    "# Converts the integer-encoded labels into a one-hot encoded format.\n",
    "# This is necessary for multi-class classification tasks in neural networks.\n",
    "y=to_categorical(y)"
   ]
  },
  {
   "cell_type": "code",
   "execution_count": 9,
   "id": "94db00d3",
   "metadata": {
    "execution": {
     "iopub.execute_input": "2024-12-05T19:26:25.527750Z",
     "iopub.status.busy": "2024-12-05T19:26:25.527302Z",
     "iopub.status.idle": "2024-12-05T19:26:25.536363Z",
     "shell.execute_reply": "2024-12-05T19:26:25.534970Z"
    },
    "papermill": {
     "duration": 0.020525,
     "end_time": "2024-12-05T19:26:25.539203",
     "exception": false,
     "start_time": "2024-12-05T19:26:25.518678",
     "status": "completed"
    },
    "tags": []
   },
   "outputs": [
    {
     "data": {
      "text/plain": [
       "array([[0., 0., 0., ..., 0., 0., 0.],\n",
       "       [0., 0., 0., ..., 0., 0., 0.],\n",
       "       [0., 1., 0., ..., 0., 0., 0.],\n",
       "       ...,\n",
       "       [1., 0., 0., ..., 0., 0., 0.],\n",
       "       [1., 0., 0., ..., 0., 0., 0.],\n",
       "       [1., 0., 0., ..., 0., 0., 0.]])"
      ]
     },
     "execution_count": 9,
     "metadata": {},
     "output_type": "execute_result"
    }
   ],
   "source": [
    "y"
   ]
  },
  {
   "cell_type": "code",
   "execution_count": 10,
   "id": "42a2c4a2",
   "metadata": {
    "execution": {
     "iopub.execute_input": "2024-12-05T19:26:25.553824Z",
     "iopub.status.busy": "2024-12-05T19:26:25.553223Z",
     "iopub.status.idle": "2024-12-05T19:26:25.562007Z",
     "shell.execute_reply": "2024-12-05T19:26:25.560740Z"
    },
    "papermill": {
     "duration": 0.018481,
     "end_time": "2024-12-05T19:26:25.564696",
     "exception": false,
     "start_time": "2024-12-05T19:26:25.546215",
     "status": "completed"
    },
    "tags": []
   },
   "outputs": [
    {
     "data": {
      "text/plain": [
       "array([0., 0., 0., 0., 0., 1., 0., 0., 0.])"
      ]
     },
     "execution_count": 10,
     "metadata": {},
     "output_type": "execute_result"
    }
   ],
   "source": [
    "y[0]"
   ]
  },
  {
   "cell_type": "code",
   "execution_count": 11,
   "id": "a00a30ed",
   "metadata": {
    "execution": {
     "iopub.execute_input": "2024-12-05T19:26:25.580545Z",
     "iopub.status.busy": "2024-12-05T19:26:25.580123Z",
     "iopub.status.idle": "2024-12-05T19:26:25.588776Z",
     "shell.execute_reply": "2024-12-05T19:26:25.587852Z"
    },
    "papermill": {
     "duration": 0.019728,
     "end_time": "2024-12-05T19:26:25.590892",
     "exception": false,
     "start_time": "2024-12-05T19:26:25.571164",
     "status": "completed"
    },
    "tags": []
   },
   "outputs": [],
   "source": [
    "# Splits the dataset into training and testing sets.\n",
    "# 75% of the data is used for training, and 25% is used for testing.\n",
    "# random_state ensures reproducibility of the split.\n",
    "x_train, x_test, y_train, y_test=train_test_split(x,y,train_size=0.75,random_state=43)"
   ]
  },
  {
   "cell_type": "code",
   "execution_count": 12,
   "id": "47f8dd15",
   "metadata": {
    "execution": {
     "iopub.execute_input": "2024-12-05T19:26:25.602478Z",
     "iopub.status.busy": "2024-12-05T19:26:25.602084Z",
     "iopub.status.idle": "2024-12-05T19:26:25.704774Z",
     "shell.execute_reply": "2024-12-05T19:26:25.703642Z"
    },
    "papermill": {
     "duration": 0.111175,
     "end_time": "2024-12-05T19:26:25.707157",
     "exception": false,
     "start_time": "2024-12-05T19:26:25.595982",
     "status": "completed"
    },
    "tags": []
   },
   "outputs": [
    {
     "name": "stderr",
     "output_type": "stream",
     "text": [
      "/opt/conda/lib/python3.10/site-packages/keras/src/layers/core/dense.py:87: UserWarning: Do not pass an `input_shape`/`input_dim` argument to a layer. When using Sequential models, prefer using an `Input(shape)` object as the first layer in the model instead.\n",
      "  super().__init__(activity_regularizer=activity_regularizer, **kwargs)\n"
     ]
    }
   ],
   "source": [
    "# Initializes a Sequential neural network model.\n",
    "# Adds a dense layer with 64 units and ReLU activation, where input_dim specifies the number of features in the dataset.\n",
    "# Adds two more dense layers with 32 units and ReLU activation to learn non-linear patterns.\n",
    "# The final layer has 9 units, corresponding to the 9 categories in the target variable, and uses softmax activation for multi-class classification.\n",
    "\n",
    "model=Sequential()\n",
    "\n",
    "model.add(Dense(64,activation=\"relu\",input_dim=len(x.columns))) \n",
    "model.add(Dense(32,activation=\"relu\"))\n",
    "model.add(Dense(32,activation=\"relu\"))\n",
    "\n",
    "model.add(Dense(9,activation=\"softmax\"))"
   ]
  },
  {
   "cell_type": "code",
   "execution_count": 13,
   "id": "7a18acde",
   "metadata": {
    "execution": {
     "iopub.execute_input": "2024-12-05T19:26:25.718302Z",
     "iopub.status.busy": "2024-12-05T19:26:25.717963Z",
     "iopub.status.idle": "2024-12-05T19:26:25.733311Z",
     "shell.execute_reply": "2024-12-05T19:26:25.732464Z"
    },
    "papermill": {
     "duration": 0.023653,
     "end_time": "2024-12-05T19:26:25.735600",
     "exception": false,
     "start_time": "2024-12-05T19:26:25.711947",
     "status": "completed"
    },
    "tags": []
   },
   "outputs": [],
   "source": [
    "# Compiles the model using the Adam optimizer, which adapts learning rates during training.\n",
    "# Uses categorical crossentropy as the loss function for multi-class classification.\n",
    "# Tracks the accuracy metric to evaluate the model's performance during training and testing.\n",
    "model.compile(optimizer=\"adam\", loss=\"categorical_crossentropy\", metrics=[\"accuracy\"])"
   ]
  },
  {
   "cell_type": "code",
   "execution_count": 14,
   "id": "97651612",
   "metadata": {
    "execution": {
     "iopub.execute_input": "2024-12-05T19:26:25.747129Z",
     "iopub.status.busy": "2024-12-05T19:26:25.746780Z",
     "iopub.status.idle": "2024-12-05T19:26:39.956801Z",
     "shell.execute_reply": "2024-12-05T19:26:39.955332Z"
    },
    "papermill": {
     "duration": 14.218519,
     "end_time": "2024-12-05T19:26:39.959095",
     "exception": false,
     "start_time": "2024-12-05T19:26:25.740576",
     "status": "completed"
    },
    "tags": []
   },
   "outputs": [
    {
     "name": "stdout",
     "output_type": "stream",
     "text": [
      "Epoch 1/128\n",
      "\u001b[1m23/23\u001b[0m \u001b[32m━━━━━━━━━━━━━━━━━━━━\u001b[0m\u001b[37m\u001b[0m \u001b[1m2s\u001b[0m 12ms/step - accuracy: 0.1105 - loss: 11.3497 - val_accuracy: 0.2641 - val_loss: 2.3064\n",
      "Epoch 2/128\n",
      "\u001b[1m23/23\u001b[0m \u001b[32m━━━━━━━━━━━━━━━━━━━━\u001b[0m\u001b[37m\u001b[0m \u001b[1m0s\u001b[0m 3ms/step - accuracy: 0.3197 - loss: 2.2814 - val_accuracy: 0.4719 - val_loss: 1.9361\n",
      "Epoch 3/128\n",
      "\u001b[1m23/23\u001b[0m \u001b[32m━━━━━━━━━━━━━━━━━━━━\u001b[0m\u001b[37m\u001b[0m \u001b[1m0s\u001b[0m 3ms/step - accuracy: 0.3410 - loss: 1.8380 - val_accuracy: 0.3550 - val_loss: 1.8691\n",
      "Epoch 4/128\n",
      "\u001b[1m23/23\u001b[0m \u001b[32m━━━━━━━━━━━━━━━━━━━━\u001b[0m\u001b[37m\u001b[0m \u001b[1m0s\u001b[0m 3ms/step - accuracy: 0.3276 - loss: 1.6876 - val_accuracy: 0.4935 - val_loss: 1.8757\n",
      "Epoch 5/128\n",
      "\u001b[1m23/23\u001b[0m \u001b[32m━━━━━━━━━━━━━━━━━━━━\u001b[0m\u001b[37m\u001b[0m \u001b[1m0s\u001b[0m 3ms/step - accuracy: 0.4071 - loss: 1.6042 - val_accuracy: 0.4545 - val_loss: 1.8807\n",
      "Epoch 6/128\n",
      "\u001b[1m23/23\u001b[0m \u001b[32m━━━━━━━━━━━━━━━━━━━━\u001b[0m\u001b[37m\u001b[0m \u001b[1m0s\u001b[0m 3ms/step - accuracy: 0.4073 - loss: 1.5463 - val_accuracy: 0.4416 - val_loss: 1.8968\n",
      "Epoch 7/128\n",
      "\u001b[1m23/23\u001b[0m \u001b[32m━━━━━━━━━━━━━━━━━━━━\u001b[0m\u001b[37m\u001b[0m \u001b[1m0s\u001b[0m 3ms/step - accuracy: 0.4294 - loss: 1.4859 - val_accuracy: 0.5065 - val_loss: 1.8429\n",
      "Epoch 8/128\n",
      "\u001b[1m23/23\u001b[0m \u001b[32m━━━━━━━━━━━━━━━━━━━━\u001b[0m\u001b[37m\u001b[0m \u001b[1m0s\u001b[0m 3ms/step - accuracy: 0.4355 - loss: 1.4876 - val_accuracy: 0.4113 - val_loss: 2.0111\n",
      "Epoch 9/128\n",
      "\u001b[1m23/23\u001b[0m \u001b[32m━━━━━━━━━━━━━━━━━━━━\u001b[0m\u001b[37m\u001b[0m \u001b[1m0s\u001b[0m 3ms/step - accuracy: 0.4016 - loss: 1.5003 - val_accuracy: 0.5195 - val_loss: 1.9713\n",
      "Epoch 10/128\n",
      "\u001b[1m23/23\u001b[0m \u001b[32m━━━━━━━━━━━━━━━━━━━━\u001b[0m\u001b[37m\u001b[0m \u001b[1m0s\u001b[0m 3ms/step - accuracy: 0.4816 - loss: 1.4869 - val_accuracy: 0.3593 - val_loss: 2.2322\n",
      "Epoch 11/128\n",
      "\u001b[1m23/23\u001b[0m \u001b[32m━━━━━━━━━━━━━━━━━━━━\u001b[0m\u001b[37m\u001b[0m \u001b[1m0s\u001b[0m 3ms/step - accuracy: 0.4661 - loss: 1.4531 - val_accuracy: 0.5671 - val_loss: 2.0733\n",
      "Epoch 12/128\n",
      "\u001b[1m23/23\u001b[0m \u001b[32m━━━━━━━━━━━━━━━━━━━━\u001b[0m\u001b[37m\u001b[0m \u001b[1m0s\u001b[0m 3ms/step - accuracy: 0.4843 - loss: 1.3497 - val_accuracy: 0.5325 - val_loss: 2.2176\n",
      "Epoch 13/128\n",
      "\u001b[1m23/23\u001b[0m \u001b[32m━━━━━━━━━━━━━━━━━━━━\u001b[0m\u001b[37m\u001b[0m \u001b[1m0s\u001b[0m 4ms/step - accuracy: 0.5262 - loss: 1.3070 - val_accuracy: 0.5325 - val_loss: 2.2235\n",
      "Epoch 14/128\n",
      "\u001b[1m23/23\u001b[0m \u001b[32m━━━━━━━━━━━━━━━━━━━━\u001b[0m\u001b[37m\u001b[0m \u001b[1m0s\u001b[0m 3ms/step - accuracy: 0.5106 - loss: 1.3235 - val_accuracy: 0.4935 - val_loss: 2.3182\n",
      "Epoch 15/128\n",
      "\u001b[1m23/23\u001b[0m \u001b[32m━━━━━━━━━━━━━━━━━━━━\u001b[0m\u001b[37m\u001b[0m \u001b[1m0s\u001b[0m 4ms/step - accuracy: 0.5161 - loss: 1.3240 - val_accuracy: 0.5844 - val_loss: 2.1263\n",
      "Epoch 16/128\n",
      "\u001b[1m23/23\u001b[0m \u001b[32m━━━━━━━━━━━━━━━━━━━━\u001b[0m\u001b[37m\u001b[0m \u001b[1m0s\u001b[0m 3ms/step - accuracy: 0.5149 - loss: 1.2852 - val_accuracy: 0.5844 - val_loss: 2.2409\n",
      "Epoch 17/128\n",
      "\u001b[1m23/23\u001b[0m \u001b[32m━━━━━━━━━━━━━━━━━━━━\u001b[0m\u001b[37m\u001b[0m \u001b[1m0s\u001b[0m 3ms/step - accuracy: 0.5208 - loss: 1.3349 - val_accuracy: 0.5671 - val_loss: 2.2434\n",
      "Epoch 18/128\n",
      "\u001b[1m23/23\u001b[0m \u001b[32m━━━━━━━━━━━━━━━━━━━━\u001b[0m\u001b[37m\u001b[0m \u001b[1m0s\u001b[0m 3ms/step - accuracy: 0.5306 - loss: 1.2394 - val_accuracy: 0.5368 - val_loss: 2.2618\n",
      "Epoch 19/128\n",
      "\u001b[1m23/23\u001b[0m \u001b[32m━━━━━━━━━━━━━━━━━━━━\u001b[0m\u001b[37m\u001b[0m \u001b[1m0s\u001b[0m 3ms/step - accuracy: 0.5546 - loss: 1.2479 - val_accuracy: 0.5758 - val_loss: 2.1755\n",
      "Epoch 20/128\n",
      "\u001b[1m23/23\u001b[0m \u001b[32m━━━━━━━━━━━━━━━━━━━━\u001b[0m\u001b[37m\u001b[0m \u001b[1m0s\u001b[0m 3ms/step - accuracy: 0.5223 - loss: 1.2679 - val_accuracy: 0.5758 - val_loss: 2.1633\n",
      "Epoch 21/128\n",
      "\u001b[1m23/23\u001b[0m \u001b[32m━━━━━━━━━━━━━━━━━━━━\u001b[0m\u001b[37m\u001b[0m \u001b[1m0s\u001b[0m 3ms/step - accuracy: 0.5436 - loss: 1.1912 - val_accuracy: 0.6190 - val_loss: 2.1678\n",
      "Epoch 22/128\n",
      "\u001b[1m23/23\u001b[0m \u001b[32m━━━━━━━━━━━━━━━━━━━━\u001b[0m\u001b[37m\u001b[0m \u001b[1m0s\u001b[0m 3ms/step - accuracy: 0.5536 - loss: 1.2221 - val_accuracy: 0.5844 - val_loss: 2.0532\n",
      "Epoch 23/128\n",
      "\u001b[1m23/23\u001b[0m \u001b[32m━━━━━━━━━━━━━━━━━━━━\u001b[0m\u001b[37m\u001b[0m \u001b[1m0s\u001b[0m 3ms/step - accuracy: 0.5477 - loss: 1.1827 - val_accuracy: 0.6147 - val_loss: 2.0233\n",
      "Epoch 24/128\n",
      "\u001b[1m23/23\u001b[0m \u001b[32m━━━━━━━━━━━━━━━━━━━━\u001b[0m\u001b[37m\u001b[0m \u001b[1m0s\u001b[0m 3ms/step - accuracy: 0.5307 - loss: 1.2107 - val_accuracy: 0.6883 - val_loss: 1.9070\n",
      "Epoch 25/128\n",
      "\u001b[1m23/23\u001b[0m \u001b[32m━━━━━━━━━━━━━━━━━━━━\u001b[0m\u001b[37m\u001b[0m \u001b[1m0s\u001b[0m 3ms/step - accuracy: 0.5968 - loss: 1.1193 - val_accuracy: 0.6061 - val_loss: 1.9724\n",
      "Epoch 26/128\n",
      "\u001b[1m23/23\u001b[0m \u001b[32m━━━━━━━━━━━━━━━━━━━━\u001b[0m\u001b[37m\u001b[0m \u001b[1m0s\u001b[0m 3ms/step - accuracy: 0.6035 - loss: 1.1189 - val_accuracy: 0.6667 - val_loss: 1.8255\n",
      "Epoch 27/128\n",
      "\u001b[1m23/23\u001b[0m \u001b[32m━━━━━━━━━━━━━━━━━━━━\u001b[0m\u001b[37m\u001b[0m \u001b[1m0s\u001b[0m 3ms/step - accuracy: 0.6419 - loss: 1.0507 - val_accuracy: 0.6147 - val_loss: 1.7988\n",
      "Epoch 28/128\n",
      "\u001b[1m23/23\u001b[0m \u001b[32m━━━━━━━━━━━━━━━━━━━━\u001b[0m\u001b[37m\u001b[0m \u001b[1m0s\u001b[0m 3ms/step - accuracy: 0.6157 - loss: 1.1432 - val_accuracy: 0.6623 - val_loss: 1.6851\n",
      "Epoch 29/128\n",
      "\u001b[1m23/23\u001b[0m \u001b[32m━━━━━━━━━━━━━━━━━━━━\u001b[0m\u001b[37m\u001b[0m \u001b[1m0s\u001b[0m 3ms/step - accuracy: 0.5935 - loss: 1.0684 - val_accuracy: 0.6840 - val_loss: 1.5811\n",
      "Epoch 30/128\n",
      "\u001b[1m23/23\u001b[0m \u001b[32m━━━━━━━━━━━━━━━━━━━━\u001b[0m\u001b[37m\u001b[0m \u001b[1m0s\u001b[0m 4ms/step - accuracy: 0.6256 - loss: 1.0629 - val_accuracy: 0.6407 - val_loss: 1.6530\n",
      "Epoch 31/128\n",
      "\u001b[1m23/23\u001b[0m \u001b[32m━━━━━━━━━━━━━━━━━━━━\u001b[0m\u001b[37m\u001b[0m \u001b[1m0s\u001b[0m 3ms/step - accuracy: 0.6606 - loss: 1.0062 - val_accuracy: 0.6320 - val_loss: 1.5688\n",
      "Epoch 32/128\n",
      "\u001b[1m23/23\u001b[0m \u001b[32m━━━━━━━━━━━━━━━━━━━━\u001b[0m\u001b[37m\u001b[0m \u001b[1m0s\u001b[0m 3ms/step - accuracy: 0.6402 - loss: 0.9749 - val_accuracy: 0.6883 - val_loss: 1.4888\n",
      "Epoch 33/128\n",
      "\u001b[1m23/23\u001b[0m \u001b[32m━━━━━━━━━━━━━━━━━━━━\u001b[0m\u001b[37m\u001b[0m \u001b[1m0s\u001b[0m 3ms/step - accuracy: 0.6718 - loss: 1.0062 - val_accuracy: 0.7056 - val_loss: 1.4236\n",
      "Epoch 34/128\n",
      "\u001b[1m23/23\u001b[0m \u001b[32m━━━━━━━━━━━━━━━━━━━━\u001b[0m\u001b[37m\u001b[0m \u001b[1m0s\u001b[0m 3ms/step - accuracy: 0.6978 - loss: 0.9186 - val_accuracy: 0.6710 - val_loss: 1.5491\n",
      "Epoch 35/128\n",
      "\u001b[1m23/23\u001b[0m \u001b[32m━━━━━━━━━━━━━━━━━━━━\u001b[0m\u001b[37m\u001b[0m \u001b[1m0s\u001b[0m 3ms/step - accuracy: 0.6541 - loss: 0.9580 - val_accuracy: 0.7056 - val_loss: 1.3222\n",
      "Epoch 36/128\n",
      "\u001b[1m23/23\u001b[0m \u001b[32m━━━━━━━━━━━━━━━━━━━━\u001b[0m\u001b[37m\u001b[0m \u001b[1m0s\u001b[0m 3ms/step - accuracy: 0.6836 - loss: 0.9210 - val_accuracy: 0.6710 - val_loss: 1.3364\n",
      "Epoch 37/128\n",
      "\u001b[1m23/23\u001b[0m \u001b[32m━━━━━━━━━━━━━━━━━━━━\u001b[0m\u001b[37m\u001b[0m \u001b[1m0s\u001b[0m 3ms/step - accuracy: 0.6495 - loss: 0.9423 - val_accuracy: 0.7229 - val_loss: 1.2078\n",
      "Epoch 38/128\n",
      "\u001b[1m23/23\u001b[0m \u001b[32m━━━━━━━━━━━━━━━━━━━━\u001b[0m\u001b[37m\u001b[0m \u001b[1m0s\u001b[0m 3ms/step - accuracy: 0.7032 - loss: 0.8744 - val_accuracy: 0.6623 - val_loss: 1.3439\n",
      "Epoch 39/128\n",
      "\u001b[1m23/23\u001b[0m \u001b[32m━━━━━━━━━━━━━━━━━━━━\u001b[0m\u001b[37m\u001b[0m \u001b[1m0s\u001b[0m 3ms/step - accuracy: 0.6910 - loss: 0.9002 - val_accuracy: 0.7489 - val_loss: 1.1563\n",
      "Epoch 40/128\n",
      "\u001b[1m23/23\u001b[0m \u001b[32m━━━━━━━━━━━━━━━━━━━━\u001b[0m\u001b[37m\u001b[0m \u001b[1m0s\u001b[0m 3ms/step - accuracy: 0.7128 - loss: 0.8173 - val_accuracy: 0.6883 - val_loss: 1.1598\n",
      "Epoch 41/128\n",
      "\u001b[1m23/23\u001b[0m \u001b[32m━━━━━━━━━━━━━━━━━━━━\u001b[0m\u001b[37m\u001b[0m \u001b[1m0s\u001b[0m 3ms/step - accuracy: 0.6928 - loss: 0.8830 - val_accuracy: 0.7403 - val_loss: 1.0544\n",
      "Epoch 42/128\n",
      "\u001b[1m23/23\u001b[0m \u001b[32m━━━━━━━━━━━━━━━━━━━━\u001b[0m\u001b[37m\u001b[0m \u001b[1m0s\u001b[0m 3ms/step - accuracy: 0.6600 - loss: 0.8608 - val_accuracy: 0.6970 - val_loss: 1.0382\n",
      "Epoch 43/128\n",
      "\u001b[1m23/23\u001b[0m \u001b[32m━━━━━━━━━━━━━━━━━━━━\u001b[0m\u001b[37m\u001b[0m \u001b[1m0s\u001b[0m 3ms/step - accuracy: 0.7337 - loss: 0.8137 - val_accuracy: 0.7100 - val_loss: 1.0159\n",
      "Epoch 44/128\n",
      "\u001b[1m23/23\u001b[0m \u001b[32m━━━━━━━━━━━━━━━━━━━━\u001b[0m\u001b[37m\u001b[0m \u001b[1m0s\u001b[0m 3ms/step - accuracy: 0.7084 - loss: 0.7883 - val_accuracy: 0.6320 - val_loss: 1.1724\n",
      "Epoch 45/128\n",
      "\u001b[1m23/23\u001b[0m \u001b[32m━━━━━━━━━━━━━━━━━━━━\u001b[0m\u001b[37m\u001b[0m \u001b[1m0s\u001b[0m 3ms/step - accuracy: 0.7035 - loss: 0.8626 - val_accuracy: 0.7489 - val_loss: 0.9282\n",
      "Epoch 46/128\n",
      "\u001b[1m23/23\u001b[0m \u001b[32m━━━━━━━━━━━━━━━━━━━━\u001b[0m\u001b[37m\u001b[0m \u001b[1m0s\u001b[0m 3ms/step - accuracy: 0.7553 - loss: 0.7184 - val_accuracy: 0.7056 - val_loss: 1.0258\n",
      "Epoch 47/128\n",
      "\u001b[1m23/23\u001b[0m \u001b[32m━━━━━━━━━━━━━━━━━━━━\u001b[0m\u001b[37m\u001b[0m \u001b[1m0s\u001b[0m 3ms/step - accuracy: 0.7125 - loss: 0.7935 - val_accuracy: 0.7229 - val_loss: 0.9110\n",
      "Epoch 48/128\n",
      "\u001b[1m23/23\u001b[0m \u001b[32m━━━━━━━━━━━━━━━━━━━━\u001b[0m\u001b[37m\u001b[0m \u001b[1m0s\u001b[0m 3ms/step - accuracy: 0.7306 - loss: 0.7443 - val_accuracy: 0.7273 - val_loss: 0.9847\n",
      "Epoch 49/128\n",
      "\u001b[1m23/23\u001b[0m \u001b[32m━━━━━━━━━━━━━━━━━━━━\u001b[0m\u001b[37m\u001b[0m \u001b[1m0s\u001b[0m 3ms/step - accuracy: 0.7212 - loss: 0.7757 - val_accuracy: 0.7186 - val_loss: 0.9638\n",
      "Epoch 50/128\n",
      "\u001b[1m23/23\u001b[0m \u001b[32m━━━━━━━━━━━━━━━━━━━━\u001b[0m\u001b[37m\u001b[0m \u001b[1m0s\u001b[0m 3ms/step - accuracy: 0.7240 - loss: 0.7400 - val_accuracy: 0.7662 - val_loss: 0.9135\n",
      "Epoch 51/128\n",
      "\u001b[1m23/23\u001b[0m \u001b[32m━━━━━━━━━━━━━━━━━━━━\u001b[0m\u001b[37m\u001b[0m \u001b[1m0s\u001b[0m 3ms/step - accuracy: 0.7579 - loss: 0.7205 - val_accuracy: 0.7446 - val_loss: 0.9650\n",
      "Epoch 52/128\n",
      "\u001b[1m23/23\u001b[0m \u001b[32m━━━━━━━━━━━━━━━━━━━━\u001b[0m\u001b[37m\u001b[0m \u001b[1m0s\u001b[0m 3ms/step - accuracy: 0.7267 - loss: 0.7194 - val_accuracy: 0.7186 - val_loss: 0.9976\n",
      "Epoch 53/128\n",
      "\u001b[1m23/23\u001b[0m \u001b[32m━━━━━━━━━━━━━━━━━━━━\u001b[0m\u001b[37m\u001b[0m \u001b[1m0s\u001b[0m 3ms/step - accuracy: 0.7200 - loss: 0.7086 - val_accuracy: 0.7489 - val_loss: 0.9063\n",
      "Epoch 54/128\n",
      "\u001b[1m23/23\u001b[0m \u001b[32m━━━━━━━━━━━━━━━━━━━━\u001b[0m\u001b[37m\u001b[0m \u001b[1m0s\u001b[0m 3ms/step - accuracy: 0.7511 - loss: 0.6966 - val_accuracy: 0.7403 - val_loss: 0.9067\n",
      "Epoch 55/128\n",
      "\u001b[1m23/23\u001b[0m \u001b[32m━━━━━━━━━━━━━━━━━━━━\u001b[0m\u001b[37m\u001b[0m \u001b[1m0s\u001b[0m 3ms/step - accuracy: 0.7768 - loss: 0.6441 - val_accuracy: 0.7229 - val_loss: 0.9608\n",
      "Epoch 56/128\n",
      "\u001b[1m23/23\u001b[0m \u001b[32m━━━━━━━━━━━━━━━━━━━━\u001b[0m\u001b[37m\u001b[0m \u001b[1m0s\u001b[0m 3ms/step - accuracy: 0.7872 - loss: 0.6466 - val_accuracy: 0.7273 - val_loss: 0.9597\n",
      "Epoch 57/128\n",
      "\u001b[1m23/23\u001b[0m \u001b[32m━━━━━━━━━━━━━━━━━━━━\u001b[0m\u001b[37m\u001b[0m \u001b[1m0s\u001b[0m 3ms/step - accuracy: 0.7821 - loss: 0.6096 - val_accuracy: 0.7749 - val_loss: 0.9111\n",
      "Epoch 58/128\n",
      "\u001b[1m23/23\u001b[0m \u001b[32m━━━━━━━━━━━━━━━━━━━━\u001b[0m\u001b[37m\u001b[0m \u001b[1m0s\u001b[0m 3ms/step - accuracy: 0.7460 - loss: 0.6963 - val_accuracy: 0.6840 - val_loss: 1.0770\n",
      "Epoch 59/128\n",
      "\u001b[1m23/23\u001b[0m \u001b[32m━━━━━━━━━━━━━━━━━━━━\u001b[0m\u001b[37m\u001b[0m \u001b[1m0s\u001b[0m 3ms/step - accuracy: 0.7299 - loss: 0.7448 - val_accuracy: 0.7749 - val_loss: 0.8942\n",
      "Epoch 60/128\n",
      "\u001b[1m23/23\u001b[0m \u001b[32m━━━━━━━━━━━━━━━━━━━━\u001b[0m\u001b[37m\u001b[0m \u001b[1m0s\u001b[0m 3ms/step - accuracy: 0.7572 - loss: 0.6248 - val_accuracy: 0.6667 - val_loss: 1.0738\n",
      "Epoch 61/128\n",
      "\u001b[1m23/23\u001b[0m \u001b[32m━━━━━━━━━━━━━━━━━━━━\u001b[0m\u001b[37m\u001b[0m \u001b[1m0s\u001b[0m 3ms/step - accuracy: 0.7592 - loss: 0.7125 - val_accuracy: 0.7532 - val_loss: 0.9144\n",
      "Epoch 62/128\n",
      "\u001b[1m23/23\u001b[0m \u001b[32m━━━━━━━━━━━━━━━━━━━━\u001b[0m\u001b[37m\u001b[0m \u001b[1m0s\u001b[0m 3ms/step - accuracy: 0.7419 - loss: 0.6465 - val_accuracy: 0.7965 - val_loss: 0.8972\n",
      "Epoch 63/128\n",
      "\u001b[1m23/23\u001b[0m \u001b[32m━━━━━━━━━━━━━━━━━━━━\u001b[0m\u001b[37m\u001b[0m \u001b[1m0s\u001b[0m 3ms/step - accuracy: 0.8226 - loss: 0.5662 - val_accuracy: 0.7143 - val_loss: 1.0285\n",
      "Epoch 64/128\n",
      "\u001b[1m23/23\u001b[0m \u001b[32m━━━━━━━━━━━━━━━━━━━━\u001b[0m\u001b[37m\u001b[0m \u001b[1m0s\u001b[0m 3ms/step - accuracy: 0.7623 - loss: 0.6665 - val_accuracy: 0.7576 - val_loss: 0.9624\n",
      "Epoch 65/128\n",
      "\u001b[1m23/23\u001b[0m \u001b[32m━━━━━━━━━━━━━━━━━━━━\u001b[0m\u001b[37m\u001b[0m \u001b[1m0s\u001b[0m 3ms/step - accuracy: 0.7877 - loss: 0.5690 - val_accuracy: 0.6840 - val_loss: 1.0717\n",
      "Epoch 66/128\n",
      "\u001b[1m23/23\u001b[0m \u001b[32m━━━━━━━━━━━━━━━━━━━━\u001b[0m\u001b[37m\u001b[0m \u001b[1m0s\u001b[0m 3ms/step - accuracy: 0.7948 - loss: 0.5936 - val_accuracy: 0.7879 - val_loss: 0.8974\n",
      "Epoch 67/128\n",
      "\u001b[1m23/23\u001b[0m \u001b[32m━━━━━━━━━━━━━━━━━━━━\u001b[0m\u001b[37m\u001b[0m \u001b[1m0s\u001b[0m 3ms/step - accuracy: 0.7719 - loss: 0.6286 - val_accuracy: 0.7489 - val_loss: 0.9476\n",
      "Epoch 68/128\n",
      "\u001b[1m23/23\u001b[0m \u001b[32m━━━━━━━━━━━━━━━━━━━━\u001b[0m\u001b[37m\u001b[0m \u001b[1m0s\u001b[0m 3ms/step - accuracy: 0.7885 - loss: 0.5975 - val_accuracy: 0.7662 - val_loss: 0.9258\n",
      "Epoch 69/128\n",
      "\u001b[1m23/23\u001b[0m \u001b[32m━━━━━━━━━━━━━━━━━━━━\u001b[0m\u001b[37m\u001b[0m \u001b[1m0s\u001b[0m 3ms/step - accuracy: 0.8003 - loss: 0.5887 - val_accuracy: 0.7792 - val_loss: 0.9027\n",
      "Epoch 70/128\n",
      "\u001b[1m23/23\u001b[0m \u001b[32m━━━━━━━━━━━━━━━━━━━━\u001b[0m\u001b[37m\u001b[0m \u001b[1m0s\u001b[0m 3ms/step - accuracy: 0.8085 - loss: 0.5608 - val_accuracy: 0.7532 - val_loss: 0.9599\n",
      "Epoch 71/128\n",
      "\u001b[1m23/23\u001b[0m \u001b[32m━━━━━━━━━━━━━━━━━━━━\u001b[0m\u001b[37m\u001b[0m \u001b[1m0s\u001b[0m 3ms/step - accuracy: 0.7862 - loss: 0.5816 - val_accuracy: 0.7273 - val_loss: 1.0181\n",
      "Epoch 72/128\n",
      "\u001b[1m23/23\u001b[0m \u001b[32m━━━━━━━━━━━━━━━━━━━━\u001b[0m\u001b[37m\u001b[0m \u001b[1m0s\u001b[0m 3ms/step - accuracy: 0.7621 - loss: 0.6400 - val_accuracy: 0.7403 - val_loss: 1.0687\n",
      "Epoch 73/128\n",
      "\u001b[1m23/23\u001b[0m \u001b[32m━━━━━━━━━━━━━━━━━━━━\u001b[0m\u001b[37m\u001b[0m \u001b[1m0s\u001b[0m 3ms/step - accuracy: 0.7902 - loss: 0.5676 - val_accuracy: 0.7662 - val_loss: 0.9802\n",
      "Epoch 74/128\n",
      "\u001b[1m23/23\u001b[0m \u001b[32m━━━━━━━━━━━━━━━━━━━━\u001b[0m\u001b[37m\u001b[0m \u001b[1m0s\u001b[0m 3ms/step - accuracy: 0.8108 - loss: 0.5209 - val_accuracy: 0.7792 - val_loss: 0.9089\n",
      "Epoch 75/128\n",
      "\u001b[1m23/23\u001b[0m \u001b[32m━━━━━━━━━━━━━━━━━━━━\u001b[0m\u001b[37m\u001b[0m \u001b[1m0s\u001b[0m 3ms/step - accuracy: 0.8058 - loss: 0.5648 - val_accuracy: 0.7662 - val_loss: 0.9147\n",
      "Epoch 76/128\n",
      "\u001b[1m23/23\u001b[0m \u001b[32m━━━━━━━━━━━━━━━━━━━━\u001b[0m\u001b[37m\u001b[0m \u001b[1m0s\u001b[0m 3ms/step - accuracy: 0.8063 - loss: 0.5569 - val_accuracy: 0.7056 - val_loss: 1.0664\n",
      "Epoch 77/128\n",
      "\u001b[1m23/23\u001b[0m \u001b[32m━━━━━━━━━━━━━━━━━━━━\u001b[0m\u001b[37m\u001b[0m \u001b[1m0s\u001b[0m 3ms/step - accuracy: 0.7892 - loss: 0.5532 - val_accuracy: 0.8095 - val_loss: 0.9548\n",
      "Epoch 78/128\n",
      "\u001b[1m23/23\u001b[0m \u001b[32m━━━━━━━━━━━━━━━━━━━━\u001b[0m\u001b[37m\u001b[0m \u001b[1m0s\u001b[0m 3ms/step - accuracy: 0.7883 - loss: 0.5797 - val_accuracy: 0.7403 - val_loss: 1.0172\n",
      "Epoch 79/128\n",
      "\u001b[1m23/23\u001b[0m \u001b[32m━━━━━━━━━━━━━━━━━━━━\u001b[0m\u001b[37m\u001b[0m \u001b[1m0s\u001b[0m 3ms/step - accuracy: 0.8084 - loss: 0.5449 - val_accuracy: 0.7576 - val_loss: 0.9824\n",
      "Epoch 80/128\n",
      "\u001b[1m23/23\u001b[0m \u001b[32m━━━━━━━━━━━━━━━━━━━━\u001b[0m\u001b[37m\u001b[0m \u001b[1m0s\u001b[0m 3ms/step - accuracy: 0.8119 - loss: 0.5590 - val_accuracy: 0.7619 - val_loss: 0.9988\n",
      "Epoch 81/128\n",
      "\u001b[1m23/23\u001b[0m \u001b[32m━━━━━━━━━━━━━━━━━━━━\u001b[0m\u001b[37m\u001b[0m \u001b[1m0s\u001b[0m 3ms/step - accuracy: 0.8113 - loss: 0.5229 - val_accuracy: 0.7316 - val_loss: 1.0895\n",
      "Epoch 82/128\n",
      "\u001b[1m23/23\u001b[0m \u001b[32m━━━━━━━━━━━━━━━━━━━━\u001b[0m\u001b[37m\u001b[0m \u001b[1m0s\u001b[0m 3ms/step - accuracy: 0.7864 - loss: 0.5737 - val_accuracy: 0.7489 - val_loss: 0.9750\n",
      "Epoch 83/128\n",
      "\u001b[1m23/23\u001b[0m \u001b[32m━━━━━━━━━━━━━━━━━━━━\u001b[0m\u001b[37m\u001b[0m \u001b[1m0s\u001b[0m 4ms/step - accuracy: 0.7986 - loss: 0.5500 - val_accuracy: 0.7792 - val_loss: 0.9399\n",
      "Epoch 84/128\n",
      "\u001b[1m23/23\u001b[0m \u001b[32m━━━━━━━━━━━━━━━━━━━━\u001b[0m\u001b[37m\u001b[0m \u001b[1m0s\u001b[0m 3ms/step - accuracy: 0.7868 - loss: 0.5705 - val_accuracy: 0.7749 - val_loss: 0.9705\n",
      "Epoch 85/128\n",
      "\u001b[1m23/23\u001b[0m \u001b[32m━━━━━━━━━━━━━━━━━━━━\u001b[0m\u001b[37m\u001b[0m \u001b[1m0s\u001b[0m 3ms/step - accuracy: 0.7887 - loss: 0.5496 - val_accuracy: 0.7706 - val_loss: 0.9551\n",
      "Epoch 86/128\n",
      "\u001b[1m23/23\u001b[0m \u001b[32m━━━━━━━━━━━━━━━━━━━━\u001b[0m\u001b[37m\u001b[0m \u001b[1m0s\u001b[0m 3ms/step - accuracy: 0.7538 - loss: 0.6201 - val_accuracy: 0.7706 - val_loss: 0.9728\n",
      "Epoch 87/128\n",
      "\u001b[1m23/23\u001b[0m \u001b[32m━━━━━━━━━━━━━━━━━━━━\u001b[0m\u001b[37m\u001b[0m \u001b[1m0s\u001b[0m 3ms/step - accuracy: 0.8332 - loss: 0.4748 - val_accuracy: 0.8052 - val_loss: 1.2459\n",
      "Epoch 88/128\n",
      "\u001b[1m23/23\u001b[0m \u001b[32m━━━━━━━━━━━━━━━━━━━━\u001b[0m\u001b[37m\u001b[0m \u001b[1m0s\u001b[0m 4ms/step - accuracy: 0.8446 - loss: 0.4456 - val_accuracy: 0.7749 - val_loss: 1.4770\n",
      "Epoch 89/128\n",
      "\u001b[1m23/23\u001b[0m \u001b[32m━━━━━━━━━━━━━━━━━━━━\u001b[0m\u001b[37m\u001b[0m \u001b[1m0s\u001b[0m 3ms/step - accuracy: 0.8264 - loss: 0.4907 - val_accuracy: 0.8052 - val_loss: 1.3056\n",
      "Epoch 90/128\n",
      "\u001b[1m23/23\u001b[0m \u001b[32m━━━━━━━━━━━━━━━━━━━━\u001b[0m\u001b[37m\u001b[0m \u001b[1m0s\u001b[0m 4ms/step - accuracy: 0.8306 - loss: 0.4685 - val_accuracy: 0.7273 - val_loss: 1.7726\n",
      "Epoch 91/128\n",
      "\u001b[1m23/23\u001b[0m \u001b[32m━━━━━━━━━━━━━━━━━━━━\u001b[0m\u001b[37m\u001b[0m \u001b[1m0s\u001b[0m 3ms/step - accuracy: 0.8038 - loss: 0.5112 - val_accuracy: 0.8139 - val_loss: 1.2774\n",
      "Epoch 92/128\n",
      "\u001b[1m23/23\u001b[0m \u001b[32m━━━━━━━━━━━━━━━━━━━━\u001b[0m\u001b[37m\u001b[0m \u001b[1m0s\u001b[0m 3ms/step - accuracy: 0.8058 - loss: 0.5158 - val_accuracy: 0.7143 - val_loss: 1.3154\n",
      "Epoch 93/128\n",
      "\u001b[1m23/23\u001b[0m \u001b[32m━━━━━━━━━━━━━━━━━━━━\u001b[0m\u001b[37m\u001b[0m \u001b[1m0s\u001b[0m 3ms/step - accuracy: 0.8187 - loss: 0.5141 - val_accuracy: 0.7835 - val_loss: 1.1378\n",
      "Epoch 94/128\n",
      "\u001b[1m23/23\u001b[0m \u001b[32m━━━━━━━━━━━━━━━━━━━━\u001b[0m\u001b[37m\u001b[0m \u001b[1m0s\u001b[0m 3ms/step - accuracy: 0.8410 - loss: 0.4617 - val_accuracy: 0.7532 - val_loss: 1.1258\n",
      "Epoch 95/128\n",
      "\u001b[1m23/23\u001b[0m \u001b[32m━━━━━━━━━━━━━━━━━━━━\u001b[0m\u001b[37m\u001b[0m \u001b[1m0s\u001b[0m 3ms/step - accuracy: 0.8158 - loss: 0.5013 - val_accuracy: 0.7835 - val_loss: 1.2132\n",
      "Epoch 96/128\n",
      "\u001b[1m23/23\u001b[0m \u001b[32m━━━━━━━━━━━━━━━━━━━━\u001b[0m\u001b[37m\u001b[0m \u001b[1m0s\u001b[0m 3ms/step - accuracy: 0.7991 - loss: 0.5054 - val_accuracy: 0.7619 - val_loss: 1.1670\n",
      "Epoch 97/128\n",
      "\u001b[1m23/23\u001b[0m \u001b[32m━━━━━━━━━━━━━━━━━━━━\u001b[0m\u001b[37m\u001b[0m \u001b[1m0s\u001b[0m 3ms/step - accuracy: 0.8549 - loss: 0.4060 - val_accuracy: 0.7922 - val_loss: 1.2576\n",
      "Epoch 98/128\n",
      "\u001b[1m23/23\u001b[0m \u001b[32m━━━━━━━━━━━━━━━━━━━━\u001b[0m\u001b[37m\u001b[0m \u001b[1m0s\u001b[0m 3ms/step - accuracy: 0.8438 - loss: 0.4444 - val_accuracy: 0.7792 - val_loss: 1.4255\n",
      "Epoch 99/128\n",
      "\u001b[1m23/23\u001b[0m \u001b[32m━━━━━━━━━━━━━━━━━━━━\u001b[0m\u001b[37m\u001b[0m \u001b[1m0s\u001b[0m 3ms/step - accuracy: 0.8283 - loss: 0.4501 - val_accuracy: 0.8052 - val_loss: 1.4006\n",
      "Epoch 100/128\n",
      "\u001b[1m23/23\u001b[0m \u001b[32m━━━━━━━━━━━━━━━━━━━━\u001b[0m\u001b[37m\u001b[0m \u001b[1m0s\u001b[0m 3ms/step - accuracy: 0.8481 - loss: 0.4509 - val_accuracy: 0.7965 - val_loss: 1.5877\n",
      "Epoch 101/128\n",
      "\u001b[1m23/23\u001b[0m \u001b[32m━━━━━━━━━━━━━━━━━━━━\u001b[0m\u001b[37m\u001b[0m \u001b[1m0s\u001b[0m 3ms/step - accuracy: 0.8363 - loss: 0.5082 - val_accuracy: 0.7576 - val_loss: 1.3676\n",
      "Epoch 102/128\n",
      "\u001b[1m23/23\u001b[0m \u001b[32m━━━━━━━━━━━━━━━━━━━━\u001b[0m\u001b[37m\u001b[0m \u001b[1m0s\u001b[0m 3ms/step - accuracy: 0.7538 - loss: 0.6772 - val_accuracy: 0.7403 - val_loss: 1.5751\n",
      "Epoch 103/128\n",
      "\u001b[1m23/23\u001b[0m \u001b[32m━━━━━━━━━━━━━━━━━━━━\u001b[0m\u001b[37m\u001b[0m \u001b[1m0s\u001b[0m 3ms/step - accuracy: 0.8263 - loss: 0.5081 - val_accuracy: 0.7619 - val_loss: 1.1747\n",
      "Epoch 104/128\n",
      "\u001b[1m23/23\u001b[0m \u001b[32m━━━━━━━━━━━━━━━━━━━━\u001b[0m\u001b[37m\u001b[0m \u001b[1m0s\u001b[0m 3ms/step - accuracy: 0.8461 - loss: 0.4538 - val_accuracy: 0.7749 - val_loss: 1.1247\n",
      "Epoch 105/128\n",
      "\u001b[1m23/23\u001b[0m \u001b[32m━━━━━━━━━━━━━━━━━━━━\u001b[0m\u001b[37m\u001b[0m \u001b[1m0s\u001b[0m 3ms/step - accuracy: 0.8534 - loss: 0.4632 - val_accuracy: 0.7706 - val_loss: 1.0670\n",
      "Epoch 106/128\n",
      "\u001b[1m23/23\u001b[0m \u001b[32m━━━━━━━━━━━━━━━━━━━━\u001b[0m\u001b[37m\u001b[0m \u001b[1m0s\u001b[0m 3ms/step - accuracy: 0.8357 - loss: 0.4394 - val_accuracy: 0.8009 - val_loss: 1.0373\n",
      "Epoch 107/128\n",
      "\u001b[1m23/23\u001b[0m \u001b[32m━━━━━━━━━━━━━━━━━━━━\u001b[0m\u001b[37m\u001b[0m \u001b[1m0s\u001b[0m 3ms/step - accuracy: 0.8535 - loss: 0.4398 - val_accuracy: 0.7532 - val_loss: 1.0944\n",
      "Epoch 108/128\n",
      "\u001b[1m23/23\u001b[0m \u001b[32m━━━━━━━━━━━━━━━━━━━━\u001b[0m\u001b[37m\u001b[0m \u001b[1m0s\u001b[0m 3ms/step - accuracy: 0.8626 - loss: 0.4121 - val_accuracy: 0.7446 - val_loss: 1.1301\n",
      "Epoch 109/128\n",
      "\u001b[1m23/23\u001b[0m \u001b[32m━━━━━━━━━━━━━━━━━━━━\u001b[0m\u001b[37m\u001b[0m \u001b[1m0s\u001b[0m 3ms/step - accuracy: 0.8420 - loss: 0.4341 - val_accuracy: 0.7835 - val_loss: 1.0315\n",
      "Epoch 110/128\n",
      "\u001b[1m23/23\u001b[0m \u001b[32m━━━━━━━━━━━━━━━━━━━━\u001b[0m\u001b[37m\u001b[0m \u001b[1m0s\u001b[0m 3ms/step - accuracy: 0.8525 - loss: 0.4488 - val_accuracy: 0.7792 - val_loss: 1.0188\n",
      "Epoch 111/128\n",
      "\u001b[1m23/23\u001b[0m \u001b[32m━━━━━━━━━━━━━━━━━━━━\u001b[0m\u001b[37m\u001b[0m \u001b[1m0s\u001b[0m 3ms/step - accuracy: 0.8512 - loss: 0.4293 - val_accuracy: 0.7922 - val_loss: 1.0634\n",
      "Epoch 112/128\n",
      "\u001b[1m23/23\u001b[0m \u001b[32m━━━━━━━━━━━━━━━━━━━━\u001b[0m\u001b[37m\u001b[0m \u001b[1m0s\u001b[0m 3ms/step - accuracy: 0.8501 - loss: 0.4454 - val_accuracy: 0.7922 - val_loss: 1.0558\n",
      "Epoch 113/128\n",
      "\u001b[1m23/23\u001b[0m \u001b[32m━━━━━━━━━━━━━━━━━━━━\u001b[0m\u001b[37m\u001b[0m \u001b[1m0s\u001b[0m 3ms/step - accuracy: 0.8668 - loss: 0.4025 - val_accuracy: 0.8268 - val_loss: 0.9994\n",
      "Epoch 114/128\n",
      "\u001b[1m23/23\u001b[0m \u001b[32m━━━━━━━━━━━━━━━━━━━━\u001b[0m\u001b[37m\u001b[0m \u001b[1m0s\u001b[0m 3ms/step - accuracy: 0.8569 - loss: 0.4081 - val_accuracy: 0.7489 - val_loss: 1.1632\n",
      "Epoch 115/128\n",
      "\u001b[1m23/23\u001b[0m \u001b[32m━━━━━━━━━━━━━━━━━━━━\u001b[0m\u001b[37m\u001b[0m \u001b[1m0s\u001b[0m 3ms/step - accuracy: 0.8304 - loss: 0.4374 - val_accuracy: 0.7922 - val_loss: 1.0272\n",
      "Epoch 116/128\n",
      "\u001b[1m23/23\u001b[0m \u001b[32m━━━━━━━━━━━━━━━━━━━━\u001b[0m\u001b[37m\u001b[0m \u001b[1m0s\u001b[0m 3ms/step - accuracy: 0.8396 - loss: 0.4234 - val_accuracy: 0.7835 - val_loss: 1.0470\n",
      "Epoch 117/128\n",
      "\u001b[1m23/23\u001b[0m \u001b[32m━━━━━━━━━━━━━━━━━━━━\u001b[0m\u001b[37m\u001b[0m \u001b[1m0s\u001b[0m 3ms/step - accuracy: 0.8512 - loss: 0.4169 - val_accuracy: 0.7749 - val_loss: 1.0585\n",
      "Epoch 118/128\n",
      "\u001b[1m23/23\u001b[0m \u001b[32m━━━━━━━━━━━━━━━━━━━━\u001b[0m\u001b[37m\u001b[0m \u001b[1m0s\u001b[0m 3ms/step - accuracy: 0.8511 - loss: 0.4291 - val_accuracy: 0.8052 - val_loss: 1.0404\n",
      "Epoch 119/128\n",
      "\u001b[1m23/23\u001b[0m \u001b[32m━━━━━━━━━━━━━━━━━━━━\u001b[0m\u001b[37m\u001b[0m \u001b[1m0s\u001b[0m 3ms/step - accuracy: 0.8505 - loss: 0.4013 - val_accuracy: 0.7229 - val_loss: 1.2430\n",
      "Epoch 120/128\n",
      "\u001b[1m23/23\u001b[0m \u001b[32m━━━━━━━━━━━━━━━━━━━━\u001b[0m\u001b[37m\u001b[0m \u001b[1m0s\u001b[0m 3ms/step - accuracy: 0.8071 - loss: 0.5149 - val_accuracy: 0.7619 - val_loss: 1.1035\n",
      "Epoch 121/128\n",
      "\u001b[1m23/23\u001b[0m \u001b[32m━━━━━━━━━━━━━━━━━━━━\u001b[0m\u001b[37m\u001b[0m \u001b[1m0s\u001b[0m 3ms/step - accuracy: 0.8501 - loss: 0.4263 - val_accuracy: 0.7749 - val_loss: 1.0877\n",
      "Epoch 122/128\n",
      "\u001b[1m23/23\u001b[0m \u001b[32m━━━━━━━━━━━━━━━━━━━━\u001b[0m\u001b[37m\u001b[0m \u001b[1m0s\u001b[0m 3ms/step - accuracy: 0.8500 - loss: 0.4038 - val_accuracy: 0.7879 - val_loss: 1.0107\n",
      "Epoch 123/128\n",
      "\u001b[1m23/23\u001b[0m \u001b[32m━━━━━━━━━━━━━━━━━━━━\u001b[0m\u001b[37m\u001b[0m \u001b[1m0s\u001b[0m 3ms/step - accuracy: 0.8486 - loss: 0.4021 - val_accuracy: 0.8009 - val_loss: 1.1214\n",
      "Epoch 124/128\n",
      "\u001b[1m23/23\u001b[0m \u001b[32m━━━━━━━━━━━━━━━━━━━━\u001b[0m\u001b[37m\u001b[0m \u001b[1m0s\u001b[0m 3ms/step - accuracy: 0.8343 - loss: 0.4187 - val_accuracy: 0.7879 - val_loss: 1.1010\n",
      "Epoch 125/128\n",
      "\u001b[1m23/23\u001b[0m \u001b[32m━━━━━━━━━━━━━━━━━━━━\u001b[0m\u001b[37m\u001b[0m \u001b[1m0s\u001b[0m 3ms/step - accuracy: 0.8646 - loss: 0.3777 - val_accuracy: 0.8095 - val_loss: 1.1598\n",
      "Epoch 126/128\n",
      "\u001b[1m23/23\u001b[0m \u001b[32m━━━━━━━━━━━━━━━━━━━━\u001b[0m\u001b[37m\u001b[0m \u001b[1m0s\u001b[0m 3ms/step - accuracy: 0.8452 - loss: 0.3997 - val_accuracy: 0.7922 - val_loss: 1.1099\n",
      "Epoch 127/128\n",
      "\u001b[1m23/23\u001b[0m \u001b[32m━━━━━━━━━━━━━━━━━━━━\u001b[0m\u001b[37m\u001b[0m \u001b[1m0s\u001b[0m 3ms/step - accuracy: 0.8524 - loss: 0.3788 - val_accuracy: 0.7706 - val_loss: 1.0906\n",
      "Epoch 128/128\n",
      "\u001b[1m23/23\u001b[0m \u001b[32m━━━━━━━━━━━━━━━━━━━━\u001b[0m\u001b[37m\u001b[0m \u001b[1m0s\u001b[0m 3ms/step - accuracy: 0.8167 - loss: 0.4573 - val_accuracy: 0.8139 - val_loss: 1.0776\n"
     ]
    },
    {
     "data": {
      "text/plain": [
       "<keras.src.callbacks.history.History at 0x790f171edb10>"
      ]
     },
     "execution_count": 14,
     "metadata": {},
     "output_type": "execute_result"
    }
   ],
   "source": [
    "# Trains the model on the training data (x_train, y_train).\n",
    "# The training will run for 128 epochs, with a batch size of 32.\n",
    "# Uses 24% of the training data for validation during training (validation_split=0.24).\n",
    "model.fit(x_train,y_train,epochs =128,batch_size=32,validation_split=0.24)"
   ]
  },
  {
   "cell_type": "code",
   "execution_count": 15,
   "id": "b204d521",
   "metadata": {
    "execution": {
     "iopub.execute_input": "2024-12-05T19:26:40.013182Z",
     "iopub.status.busy": "2024-12-05T19:26:40.012345Z",
     "iopub.status.idle": "2024-12-05T19:26:40.124342Z",
     "shell.execute_reply": "2024-12-05T19:26:40.123395Z"
    },
    "papermill": {
     "duration": 0.14111,
     "end_time": "2024-12-05T19:26:40.126587",
     "exception": false,
     "start_time": "2024-12-05T19:26:39.985477",
     "status": "completed"
    },
    "tags": []
   },
   "outputs": [
    {
     "name": "stdout",
     "output_type": "stream",
     "text": [
      "\u001b[1m1/1\u001b[0m \u001b[32m━━━━━━━━━━━━━━━━━━━━\u001b[0m\u001b[37m\u001b[0m \u001b[1m0s\u001b[0m 58ms/step\n"
     ]
    }
   ],
   "source": [
    "# Create an array with new input data (e.g., for a new patient).\n",
    "# The data includes various medical measurements.\n",
    "new_data = np.array([[9.4,34,58,2.8,4.3,3.3,8.8,32,78,24,26,155,15,0.17]])\n",
    "\n",
    "# Use the trained model to predict the class (diagnosis) for the new input data.\n",
    "prediction = model.predict(new_data)"
   ]
  },
  {
   "cell_type": "code",
   "execution_count": 16,
   "id": "bcd14ab5",
   "metadata": {
    "execution": {
     "iopub.execute_input": "2024-12-05T19:26:40.177956Z",
     "iopub.status.busy": "2024-12-05T19:26:40.177584Z",
     "iopub.status.idle": "2024-12-05T19:26:40.182300Z",
     "shell.execute_reply": "2024-12-05T19:26:40.181247Z"
    },
    "papermill": {
     "duration": 0.032766,
     "end_time": "2024-12-05T19:26:40.184549",
     "exception": false,
     "start_time": "2024-12-05T19:26:40.151783",
     "status": "completed"
    },
    "tags": []
   },
   "outputs": [],
   "source": [
    "# Print the predicted class. The model will return probabilities, \n",
    "# and you can use the `argmax` function to get the class with the highest probability.\n",
    "predicted_class = np.argmax(prediction)"
   ]
  },
  {
   "cell_type": "code",
   "execution_count": 17,
   "id": "6de2037d",
   "metadata": {
    "execution": {
     "iopub.execute_input": "2024-12-05T19:26:40.236843Z",
     "iopub.status.busy": "2024-12-05T19:26:40.235839Z",
     "iopub.status.idle": "2024-12-05T19:26:40.241337Z",
     "shell.execute_reply": "2024-12-05T19:26:40.240175Z"
    },
    "papermill": {
     "duration": 0.034052,
     "end_time": "2024-12-05T19:26:40.243776",
     "exception": false,
     "start_time": "2024-12-05T19:26:40.209724",
     "status": "completed"
    },
    "tags": []
   },
   "outputs": [
    {
     "name": "stdout",
     "output_type": "stream",
     "text": [
      "Predicted Diagnosis Class: 5\n"
     ]
    }
   ],
   "source": [
    "# Print the predicted class (diagnosis).\n",
    "print(\"Predicted Diagnosis Class:\", predicted_class)"
   ]
  },
  {
   "cell_type": "code",
   "execution_count": 18,
   "id": "ca82394c",
   "metadata": {
    "execution": {
     "iopub.execute_input": "2024-12-05T19:26:40.294975Z",
     "iopub.status.busy": "2024-12-05T19:26:40.294576Z",
     "iopub.status.idle": "2024-12-05T19:26:40.300840Z",
     "shell.execute_reply": "2024-12-05T19:26:40.299698Z"
    },
    "papermill": {
     "duration": 0.034541,
     "end_time": "2024-12-05T19:26:40.303106",
     "exception": false,
     "start_time": "2024-12-05T19:26:40.268565",
     "status": "completed"
    },
    "tags": []
   },
   "outputs": [
    {
     "name": "stdout",
     "output_type": "stream",
     "text": [
      "Original Class: ['Normocytic hypochromic anemia']\n"
     ]
    }
   ],
   "source": [
    "# Convert the encoded class label (e.g., 5) back to its original category using the LabelEncoder.\n",
    "original_class = le.inverse_transform([5])\n",
    "\n",
    "# Print the original class.\n",
    "print(\"Original Class:\", original_class)"
   ]
  }
 ],
 "metadata": {
  "kaggle": {
   "accelerator": "none",
   "dataSources": [
    {
     "datasetId": 4994222,
     "sourceId": 8395079,
     "sourceType": "datasetVersion"
    }
   ],
   "dockerImageVersionId": 30804,
   "isGpuEnabled": false,
   "isInternetEnabled": true,
   "language": "python",
   "sourceType": "notebook"
  },
  "kernelspec": {
   "display_name": "Python 3",
   "language": "python",
   "name": "python3"
  },
  "language_info": {
   "codemirror_mode": {
    "name": "ipython",
    "version": 3
   },
   "file_extension": ".py",
   "mimetype": "text/x-python",
   "name": "python",
   "nbconvert_exporter": "python",
   "pygments_lexer": "ipython3",
   "version": "3.10.14"
  },
  "papermill": {
   "default_parameters": {},
   "duration": 36.496656,
   "end_time": "2024-12-05T19:26:42.785453",
   "environment_variables": {},
   "exception": null,
   "input_path": "__notebook__.ipynb",
   "output_path": "__notebook__.ipynb",
   "parameters": {},
   "start_time": "2024-12-05T19:26:06.288797",
   "version": "2.6.0"
  }
 },
 "nbformat": 4,
 "nbformat_minor": 5
}
