{
 "cells": [
  {
   "cell_type": "code",
   "execution_count": 1,
   "id": "4e3860f3",
   "metadata": {
    "_cell_guid": "b1076dfc-b9ad-4769-8c92-a6c4dae69d19",
    "_uuid": "8f2839f25d086af736a60e9eeb907d3b93b6e0e5",
    "execution": {
     "iopub.execute_input": "2024-12-05T19:10:10.225633Z",
     "iopub.status.busy": "2024-12-05T19:10:10.224644Z",
     "iopub.status.idle": "2024-12-05T19:10:11.261384Z",
     "shell.execute_reply": "2024-12-05T19:10:11.260044Z"
    },
    "papermill": {
     "duration": 1.045591,
     "end_time": "2024-12-05T19:10:11.263656",
     "exception": false,
     "start_time": "2024-12-05T19:10:10.218065",
     "status": "completed"
    },
    "tags": []
   },
   "outputs": [
    {
     "name": "stdout",
     "output_type": "stream",
     "text": [
      "/kaggle/input/anemia-types-classification/diagnosed_cbc_data_v4.csv\n"
     ]
    }
   ],
   "source": [
    "# This Python 3 environment comes with many helpful analytics libraries installed\n",
    "# It is defined by the kaggle/python Docker image: https://github.com/kaggle/docker-python\n",
    "# For example, here's several helpful packages to load\n",
    "\n",
    "import numpy as np # linear algebra\n",
    "import pandas as pd # data processing, CSV file I/O (e.g. pd.read_csv)\n",
    "\n",
    "# Input data files are available in the read-only \"../input/\" directory\n",
    "# For example, running this (by clicking run or pressing Shift+Enter) will list all files under the input directory\n",
    "\n",
    "import os\n",
    "for dirname, _, filenames in os.walk('/kaggle/input'):\n",
    "    for filename in filenames:\n",
    "        print(os.path.join(dirname, filename))\n",
    "\n",
    "# You can write up to 20GB to the current directory (/kaggle/working/) that gets preserved as output when you create a version using \"Save & Run All\" \n",
    "# You can also write temporary files to /kaggle/temp/, but they won't be saved outside of the current session"
   ]
  },
  {
   "cell_type": "code",
   "execution_count": 2,
   "id": "1d37c3a5",
   "metadata": {
    "execution": {
     "iopub.execute_input": "2024-12-05T19:10:11.274954Z",
     "iopub.status.busy": "2024-12-05T19:10:11.274430Z",
     "iopub.status.idle": "2024-12-05T19:10:11.330122Z",
     "shell.execute_reply": "2024-12-05T19:10:11.328971Z"
    },
    "papermill": {
     "duration": 0.06412,
     "end_time": "2024-12-05T19:10:11.332709",
     "exception": false,
     "start_time": "2024-12-05T19:10:11.268589",
     "status": "completed"
    },
    "tags": []
   },
   "outputs": [
    {
     "data": {
      "text/html": [
       "<div>\n",
       "<style scoped>\n",
       "    .dataframe tbody tr th:only-of-type {\n",
       "        vertical-align: middle;\n",
       "    }\n",
       "\n",
       "    .dataframe tbody tr th {\n",
       "        vertical-align: top;\n",
       "    }\n",
       "\n",
       "    .dataframe thead th {\n",
       "        text-align: right;\n",
       "    }\n",
       "</style>\n",
       "<table border=\"1\" class=\"dataframe\">\n",
       "  <thead>\n",
       "    <tr style=\"text-align: right;\">\n",
       "      <th></th>\n",
       "      <th>WBC</th>\n",
       "      <th>LYMp</th>\n",
       "      <th>NEUTp</th>\n",
       "      <th>LYMn</th>\n",
       "      <th>NEUTn</th>\n",
       "      <th>RBC</th>\n",
       "      <th>HGB</th>\n",
       "      <th>HCT</th>\n",
       "      <th>MCV</th>\n",
       "      <th>MCH</th>\n",
       "      <th>MCHC</th>\n",
       "      <th>PLT</th>\n",
       "      <th>PDW</th>\n",
       "      <th>PCT</th>\n",
       "      <th>Diagnosis</th>\n",
       "    </tr>\n",
       "  </thead>\n",
       "  <tbody>\n",
       "    <tr>\n",
       "      <th>0</th>\n",
       "      <td>10.0</td>\n",
       "      <td>43.2</td>\n",
       "      <td>50.1</td>\n",
       "      <td>4.3</td>\n",
       "      <td>5.0</td>\n",
       "      <td>2.77</td>\n",
       "      <td>7.3</td>\n",
       "      <td>24.2</td>\n",
       "      <td>87.7</td>\n",
       "      <td>26.3</td>\n",
       "      <td>30.1</td>\n",
       "      <td>189.0</td>\n",
       "      <td>12.5</td>\n",
       "      <td>0.17</td>\n",
       "      <td>Normocytic hypochromic anemia</td>\n",
       "    </tr>\n",
       "    <tr>\n",
       "      <th>1</th>\n",
       "      <td>10.0</td>\n",
       "      <td>42.4</td>\n",
       "      <td>52.3</td>\n",
       "      <td>4.2</td>\n",
       "      <td>5.3</td>\n",
       "      <td>2.84</td>\n",
       "      <td>7.3</td>\n",
       "      <td>25.0</td>\n",
       "      <td>88.2</td>\n",
       "      <td>25.7</td>\n",
       "      <td>20.2</td>\n",
       "      <td>180.0</td>\n",
       "      <td>12.5</td>\n",
       "      <td>0.16</td>\n",
       "      <td>Normocytic hypochromic anemia</td>\n",
       "    </tr>\n",
       "    <tr>\n",
       "      <th>2</th>\n",
       "      <td>7.2</td>\n",
       "      <td>30.7</td>\n",
       "      <td>60.7</td>\n",
       "      <td>2.2</td>\n",
       "      <td>4.4</td>\n",
       "      <td>3.97</td>\n",
       "      <td>9.0</td>\n",
       "      <td>30.5</td>\n",
       "      <td>77.0</td>\n",
       "      <td>22.6</td>\n",
       "      <td>29.5</td>\n",
       "      <td>148.0</td>\n",
       "      <td>14.3</td>\n",
       "      <td>0.14</td>\n",
       "      <td>Iron deficiency anemia</td>\n",
       "    </tr>\n",
       "    <tr>\n",
       "      <th>3</th>\n",
       "      <td>6.0</td>\n",
       "      <td>30.2</td>\n",
       "      <td>63.5</td>\n",
       "      <td>1.8</td>\n",
       "      <td>3.8</td>\n",
       "      <td>4.22</td>\n",
       "      <td>3.8</td>\n",
       "      <td>32.8</td>\n",
       "      <td>77.9</td>\n",
       "      <td>23.2</td>\n",
       "      <td>29.8</td>\n",
       "      <td>143.0</td>\n",
       "      <td>11.3</td>\n",
       "      <td>0.12</td>\n",
       "      <td>Iron deficiency anemia</td>\n",
       "    </tr>\n",
       "    <tr>\n",
       "      <th>4</th>\n",
       "      <td>4.2</td>\n",
       "      <td>39.1</td>\n",
       "      <td>53.7</td>\n",
       "      <td>1.6</td>\n",
       "      <td>2.3</td>\n",
       "      <td>3.93</td>\n",
       "      <td>0.4</td>\n",
       "      <td>316.0</td>\n",
       "      <td>80.6</td>\n",
       "      <td>23.9</td>\n",
       "      <td>29.7</td>\n",
       "      <td>236.0</td>\n",
       "      <td>12.8</td>\n",
       "      <td>0.22</td>\n",
       "      <td>Normocytic hypochromic anemia</td>\n",
       "    </tr>\n",
       "  </tbody>\n",
       "</table>\n",
       "</div>"
      ],
      "text/plain": [
       "    WBC  LYMp  NEUTp  LYMn  NEUTn   RBC  HGB    HCT   MCV   MCH  MCHC    PLT  \\\n",
       "0  10.0  43.2   50.1   4.3    5.0  2.77  7.3   24.2  87.7  26.3  30.1  189.0   \n",
       "1  10.0  42.4   52.3   4.2    5.3  2.84  7.3   25.0  88.2  25.7  20.2  180.0   \n",
       "2   7.2  30.7   60.7   2.2    4.4  3.97  9.0   30.5  77.0  22.6  29.5  148.0   \n",
       "3   6.0  30.2   63.5   1.8    3.8  4.22  3.8   32.8  77.9  23.2  29.8  143.0   \n",
       "4   4.2  39.1   53.7   1.6    2.3  3.93  0.4  316.0  80.6  23.9  29.7  236.0   \n",
       "\n",
       "    PDW   PCT                      Diagnosis  \n",
       "0  12.5  0.17  Normocytic hypochromic anemia  \n",
       "1  12.5  0.16  Normocytic hypochromic anemia  \n",
       "2  14.3  0.14         Iron deficiency anemia  \n",
       "3  11.3  0.12         Iron deficiency anemia  \n",
       "4  12.8  0.22  Normocytic hypochromic anemia  "
      ]
     },
     "execution_count": 2,
     "metadata": {},
     "output_type": "execute_result"
    }
   ],
   "source": [
    "df= pd.read_csv('/kaggle/input/anemia-types-classification/diagnosed_cbc_data_v4.csv')\n",
    "df.head()"
   ]
  },
  {
   "cell_type": "code",
   "execution_count": 3,
   "id": "7aeb2f81",
   "metadata": {
    "execution": {
     "iopub.execute_input": "2024-12-05T19:10:11.344592Z",
     "iopub.status.busy": "2024-12-05T19:10:11.343751Z",
     "iopub.status.idle": "2024-12-05T19:10:28.104100Z",
     "shell.execute_reply": "2024-12-05T19:10:28.102939Z"
    },
    "papermill": {
     "duration": 16.769045,
     "end_time": "2024-12-05T19:10:28.106544",
     "exception": false,
     "start_time": "2024-12-05T19:10:11.337499",
     "status": "completed"
    },
    "tags": []
   },
   "outputs": [],
   "source": [
    "from sklearn.preprocessing import LabelEncoder\n",
    "from sklearn.model_selection import train_test_split\n",
    "from keras.models import Sequential\n",
    "from keras.layers import Dense\n",
    "from keras.utils import to_categorical"
   ]
  },
  {
   "cell_type": "code",
   "execution_count": 4,
   "id": "0f6bd348",
   "metadata": {
    "execution": {
     "iopub.execute_input": "2024-12-05T19:10:28.119471Z",
     "iopub.status.busy": "2024-12-05T19:10:28.118572Z",
     "iopub.status.idle": "2024-12-05T19:10:28.130885Z",
     "shell.execute_reply": "2024-12-05T19:10:28.129817Z"
    },
    "papermill": {
     "duration": 0.02103,
     "end_time": "2024-12-05T19:10:28.133302",
     "exception": false,
     "start_time": "2024-12-05T19:10:28.112272",
     "status": "completed"
    },
    "tags": []
   },
   "outputs": [],
   "source": [
    "y=df['Diagnosis']\n",
    "x=df.drop('Diagnosis',axis=1)"
   ]
  },
  {
   "cell_type": "code",
   "execution_count": 5,
   "id": "b96c3968",
   "metadata": {
    "execution": {
     "iopub.execute_input": "2024-12-05T19:10:28.144305Z",
     "iopub.status.busy": "2024-12-05T19:10:28.143939Z",
     "iopub.status.idle": "2024-12-05T19:10:28.152670Z",
     "shell.execute_reply": "2024-12-05T19:10:28.151471Z"
    },
    "papermill": {
     "duration": 0.016611,
     "end_time": "2024-12-05T19:10:28.154704",
     "exception": false,
     "start_time": "2024-12-05T19:10:28.138093",
     "status": "completed"
    },
    "tags": []
   },
   "outputs": [
    {
     "data": {
      "text/plain": [
       "0       Normocytic hypochromic anemia\n",
       "1       Normocytic hypochromic anemia\n",
       "2              Iron deficiency anemia\n",
       "3              Iron deficiency anemia\n",
       "4       Normocytic hypochromic anemia\n",
       "                    ...              \n",
       "1276                          Healthy\n",
       "1277                          Healthy\n",
       "1278                          Healthy\n",
       "1279                          Healthy\n",
       "1280                          Healthy\n",
       "Name: Diagnosis, Length: 1281, dtype: object"
      ]
     },
     "execution_count": 5,
     "metadata": {},
     "output_type": "execute_result"
    }
   ],
   "source": [
    "y"
   ]
  },
  {
   "cell_type": "code",
   "execution_count": 6,
   "id": "d7d5a7ac",
   "metadata": {
    "execution": {
     "iopub.execute_input": "2024-12-05T19:10:28.165835Z",
     "iopub.status.busy": "2024-12-05T19:10:28.165414Z",
     "iopub.status.idle": "2024-12-05T19:10:28.171484Z",
     "shell.execute_reply": "2024-12-05T19:10:28.170315Z"
    },
    "papermill": {
     "duration": 0.014261,
     "end_time": "2024-12-05T19:10:28.173742",
     "exception": false,
     "start_time": "2024-12-05T19:10:28.159481",
     "status": "completed"
    },
    "tags": []
   },
   "outputs": [],
   "source": [
    "le=LabelEncoder()\n",
    "y=le.fit_transform(y)"
   ]
  },
  {
   "cell_type": "code",
   "execution_count": 7,
   "id": "d32617f9",
   "metadata": {
    "execution": {
     "iopub.execute_input": "2024-12-05T19:10:28.184981Z",
     "iopub.status.busy": "2024-12-05T19:10:28.184573Z",
     "iopub.status.idle": "2024-12-05T19:10:28.193413Z",
     "shell.execute_reply": "2024-12-05T19:10:28.192352Z"
    },
    "papermill": {
     "duration": 0.016997,
     "end_time": "2024-12-05T19:10:28.195567",
     "exception": false,
     "start_time": "2024-12-05T19:10:28.178570",
     "status": "completed"
    },
    "tags": []
   },
   "outputs": [
    {
     "data": {
      "text/plain": [
       "array([5, 5, 1, ..., 0, 0, 0])"
      ]
     },
     "execution_count": 7,
     "metadata": {},
     "output_type": "execute_result"
    }
   ],
   "source": [
    "y"
   ]
  },
  {
   "cell_type": "code",
   "execution_count": 8,
   "id": "574e5ac7",
   "metadata": {
    "execution": {
     "iopub.execute_input": "2024-12-05T19:10:28.206730Z",
     "iopub.status.busy": "2024-12-05T19:10:28.206358Z",
     "iopub.status.idle": "2024-12-05T19:10:28.215565Z",
     "shell.execute_reply": "2024-12-05T19:10:28.214577Z"
    },
    "papermill": {
     "duration": 0.017479,
     "end_time": "2024-12-05T19:10:28.217886",
     "exception": false,
     "start_time": "2024-12-05T19:10:28.200407",
     "status": "completed"
    },
    "tags": []
   },
   "outputs": [
    {
     "data": {
      "text/plain": [
       "array(['Macrocytic anemia'], dtype=object)"
      ]
     },
     "execution_count": 8,
     "metadata": {},
     "output_type": "execute_result"
    }
   ],
   "source": [
    "le.inverse_transform([4])"
   ]
  },
  {
   "cell_type": "code",
   "execution_count": 9,
   "id": "aeef4f43",
   "metadata": {
    "execution": {
     "iopub.execute_input": "2024-12-05T19:10:28.229489Z",
     "iopub.status.busy": "2024-12-05T19:10:28.229128Z",
     "iopub.status.idle": "2024-12-05T19:10:28.234790Z",
     "shell.execute_reply": "2024-12-05T19:10:28.233488Z"
    },
    "papermill": {
     "duration": 0.01404,
     "end_time": "2024-12-05T19:10:28.237005",
     "exception": false,
     "start_time": "2024-12-05T19:10:28.222965",
     "status": "completed"
    },
    "tags": []
   },
   "outputs": [],
   "source": [
    "y=to_categorical(y)"
   ]
  },
  {
   "cell_type": "code",
   "execution_count": 10,
   "id": "000cd525",
   "metadata": {
    "execution": {
     "iopub.execute_input": "2024-12-05T19:10:28.249082Z",
     "iopub.status.busy": "2024-12-05T19:10:28.248644Z",
     "iopub.status.idle": "2024-12-05T19:10:28.257146Z",
     "shell.execute_reply": "2024-12-05T19:10:28.255845Z"
    },
    "papermill": {
     "duration": 0.017615,
     "end_time": "2024-12-05T19:10:28.259645",
     "exception": false,
     "start_time": "2024-12-05T19:10:28.242030",
     "status": "completed"
    },
    "tags": []
   },
   "outputs": [
    {
     "data": {
      "text/plain": [
       "array([[0., 0., 0., ..., 0., 0., 0.],\n",
       "       [0., 0., 0., ..., 0., 0., 0.],\n",
       "       [0., 1., 0., ..., 0., 0., 0.],\n",
       "       ...,\n",
       "       [1., 0., 0., ..., 0., 0., 0.],\n",
       "       [1., 0., 0., ..., 0., 0., 0.],\n",
       "       [1., 0., 0., ..., 0., 0., 0.]])"
      ]
     },
     "execution_count": 10,
     "metadata": {},
     "output_type": "execute_result"
    }
   ],
   "source": [
    "y"
   ]
  },
  {
   "cell_type": "code",
   "execution_count": 11,
   "id": "ecba55d3",
   "metadata": {
    "execution": {
     "iopub.execute_input": "2024-12-05T19:10:28.273272Z",
     "iopub.status.busy": "2024-12-05T19:10:28.272821Z",
     "iopub.status.idle": "2024-12-05T19:10:28.280308Z",
     "shell.execute_reply": "2024-12-05T19:10:28.279130Z"
    },
    "papermill": {
     "duration": 0.017449,
     "end_time": "2024-12-05T19:10:28.282586",
     "exception": false,
     "start_time": "2024-12-05T19:10:28.265137",
     "status": "completed"
    },
    "tags": []
   },
   "outputs": [
    {
     "data": {
      "text/plain": [
       "array([0., 0., 0., 0., 0., 1., 0., 0., 0.])"
      ]
     },
     "execution_count": 11,
     "metadata": {},
     "output_type": "execute_result"
    }
   ],
   "source": [
    "y[0]"
   ]
  },
  {
   "cell_type": "code",
   "execution_count": 12,
   "id": "30a30200",
   "metadata": {
    "execution": {
     "iopub.execute_input": "2024-12-05T19:10:28.294647Z",
     "iopub.status.busy": "2024-12-05T19:10:28.294248Z",
     "iopub.status.idle": "2024-12-05T19:10:28.304312Z",
     "shell.execute_reply": "2024-12-05T19:10:28.302959Z"
    },
    "papermill": {
     "duration": 0.018949,
     "end_time": "2024-12-05T19:10:28.306761",
     "exception": false,
     "start_time": "2024-12-05T19:10:28.287812",
     "status": "completed"
    },
    "tags": []
   },
   "outputs": [],
   "source": [
    "x_train, x_test, y_train, y_test=train_test_split(x,y,train_size=0.75,random_state=43)"
   ]
  },
  {
   "cell_type": "code",
   "execution_count": 13,
   "id": "d76478d0",
   "metadata": {
    "execution": {
     "iopub.execute_input": "2024-12-05T19:10:28.319573Z",
     "iopub.status.busy": "2024-12-05T19:10:28.319183Z",
     "iopub.status.idle": "2024-12-05T19:10:28.430387Z",
     "shell.execute_reply": "2024-12-05T19:10:28.429097Z"
    },
    "papermill": {
     "duration": 0.120814,
     "end_time": "2024-12-05T19:10:28.433284",
     "exception": false,
     "start_time": "2024-12-05T19:10:28.312470",
     "status": "completed"
    },
    "tags": []
   },
   "outputs": [
    {
     "name": "stderr",
     "output_type": "stream",
     "text": [
      "/opt/conda/lib/python3.10/site-packages/keras/src/layers/core/dense.py:87: UserWarning: Do not pass an `input_shape`/`input_dim` argument to a layer. When using Sequential models, prefer using an `Input(shape)` object as the first layer in the model instead.\n",
      "  super().__init__(activity_regularizer=activity_regularizer, **kwargs)\n"
     ]
    }
   ],
   "source": [
    "model=Sequential()\n",
    "\n",
    "model.add(Dense(64,activation=\"relu\",input_dim=len(x.columns))) # if u want to chance dence\n",
    "model.add(Dense(32,activation=\"relu\"))\n",
    "model.add(Dense(32,activation=\"relu\"))\n",
    "\n",
    "model.add(Dense(9,activation=\"softmax\"))"
   ]
  },
  {
   "cell_type": "code",
   "execution_count": 14,
   "id": "80cf94b1",
   "metadata": {
    "execution": {
     "iopub.execute_input": "2024-12-05T19:10:28.445792Z",
     "iopub.status.busy": "2024-12-05T19:10:28.445341Z",
     "iopub.status.idle": "2024-12-05T19:10:28.461479Z",
     "shell.execute_reply": "2024-12-05T19:10:28.460004Z"
    },
    "papermill": {
     "duration": 0.025056,
     "end_time": "2024-12-05T19:10:28.463986",
     "exception": false,
     "start_time": "2024-12-05T19:10:28.438930",
     "status": "completed"
    },
    "tags": []
   },
   "outputs": [],
   "source": [
    "model.compile(optimizer=\"adam\", loss=\"categorical_crossentropy\", metrics=[\"accuracy\"])"
   ]
  },
  {
   "cell_type": "code",
   "execution_count": 15,
   "id": "f4ecc999",
   "metadata": {
    "execution": {
     "iopub.execute_input": "2024-12-05T19:10:28.476346Z",
     "iopub.status.busy": "2024-12-05T19:10:28.475903Z",
     "iopub.status.idle": "2024-12-05T19:10:43.390452Z",
     "shell.execute_reply": "2024-12-05T19:10:43.388602Z"
    },
    "papermill": {
     "duration": 14.92353,
     "end_time": "2024-12-05T19:10:43.393010",
     "exception": false,
     "start_time": "2024-12-05T19:10:28.469480",
     "status": "completed"
    },
    "tags": []
   },
   "outputs": [
    {
     "name": "stdout",
     "output_type": "stream",
     "text": [
      "Epoch 1/128\n",
      "\u001b[1m23/23\u001b[0m \u001b[32m━━━━━━━━━━━━━━━━━━━━\u001b[0m\u001b[37m\u001b[0m \u001b[1m2s\u001b[0m 12ms/step - accuracy: 0.1072 - loss: 18.4753 - val_accuracy: 0.3074 - val_loss: 3.7782\n",
      "Epoch 2/128\n",
      "\u001b[1m23/23\u001b[0m \u001b[32m━━━━━━━━━━━━━━━━━━━━\u001b[0m\u001b[37m\u001b[0m \u001b[1m0s\u001b[0m 3ms/step - accuracy: 0.2832 - loss: 3.6900 - val_accuracy: 0.4675 - val_loss: 2.8265\n",
      "Epoch 3/128\n",
      "\u001b[1m23/23\u001b[0m \u001b[32m━━━━━━━━━━━━━━━━━━━━\u001b[0m\u001b[37m\u001b[0m \u001b[1m0s\u001b[0m 3ms/step - accuracy: 0.3615 - loss: 2.2836 - val_accuracy: 0.4459 - val_loss: 2.2283\n",
      "Epoch 4/128\n",
      "\u001b[1m23/23\u001b[0m \u001b[32m━━━━━━━━━━━━━━━━━━━━\u001b[0m\u001b[37m\u001b[0m \u001b[1m0s\u001b[0m 4ms/step - accuracy: 0.3245 - loss: 1.9523 - val_accuracy: 0.3766 - val_loss: 2.3441\n",
      "Epoch 5/128\n",
      "\u001b[1m23/23\u001b[0m \u001b[32m━━━━━━━━━━━━━━━━━━━━\u001b[0m\u001b[37m\u001b[0m \u001b[1m0s\u001b[0m 4ms/step - accuracy: 0.4146 - loss: 1.6284 - val_accuracy: 0.4329 - val_loss: 2.1292\n",
      "Epoch 6/128\n",
      "\u001b[1m23/23\u001b[0m \u001b[32m━━━━━━━━━━━━━━━━━━━━\u001b[0m\u001b[37m\u001b[0m \u001b[1m0s\u001b[0m 3ms/step - accuracy: 0.4102 - loss: 1.6377 - val_accuracy: 0.3896 - val_loss: 2.1606\n",
      "Epoch 7/128\n",
      "\u001b[1m23/23\u001b[0m \u001b[32m━━━━━━━━━━━━━━━━━━━━\u001b[0m\u001b[37m\u001b[0m \u001b[1m0s\u001b[0m 3ms/step - accuracy: 0.4406 - loss: 1.5345 - val_accuracy: 0.5238 - val_loss: 2.0629\n",
      "Epoch 8/128\n",
      "\u001b[1m23/23\u001b[0m \u001b[32m━━━━━━━━━━━━━━━━━━━━\u001b[0m\u001b[37m\u001b[0m \u001b[1m0s\u001b[0m 3ms/step - accuracy: 0.4521 - loss: 1.4985 - val_accuracy: 0.5065 - val_loss: 1.7982\n",
      "Epoch 9/128\n",
      "\u001b[1m23/23\u001b[0m \u001b[32m━━━━━━━━━━━━━━━━━━━━\u001b[0m\u001b[37m\u001b[0m \u001b[1m0s\u001b[0m 3ms/step - accuracy: 0.4978 - loss: 1.4779 - val_accuracy: 0.4762 - val_loss: 1.9792\n",
      "Epoch 10/128\n",
      "\u001b[1m23/23\u001b[0m \u001b[32m━━━━━━━━━━━━━━━━━━━━\u001b[0m\u001b[37m\u001b[0m \u001b[1m0s\u001b[0m 3ms/step - accuracy: 0.4641 - loss: 1.4576 - val_accuracy: 0.5108 - val_loss: 2.0850\n",
      "Epoch 11/128\n",
      "\u001b[1m23/23\u001b[0m \u001b[32m━━━━━━━━━━━━━━━━━━━━\u001b[0m\u001b[37m\u001b[0m \u001b[1m0s\u001b[0m 3ms/step - accuracy: 0.4828 - loss: 1.4495 - val_accuracy: 0.5281 - val_loss: 2.1310\n",
      "Epoch 12/128\n",
      "\u001b[1m23/23\u001b[0m \u001b[32m━━━━━━━━━━━━━━━━━━━━\u001b[0m\u001b[37m\u001b[0m \u001b[1m0s\u001b[0m 3ms/step - accuracy: 0.4503 - loss: 1.4633 - val_accuracy: 0.5498 - val_loss: 2.2810\n",
      "Epoch 13/128\n",
      "\u001b[1m23/23\u001b[0m \u001b[32m━━━━━━━━━━━━━━━━━━━━\u001b[0m\u001b[37m\u001b[0m \u001b[1m0s\u001b[0m 3ms/step - accuracy: 0.5274 - loss: 1.3314 - val_accuracy: 0.5714 - val_loss: 2.0713\n",
      "Epoch 14/128\n",
      "\u001b[1m23/23\u001b[0m \u001b[32m━━━━━━━━━━━━━━━━━━━━\u001b[0m\u001b[37m\u001b[0m \u001b[1m0s\u001b[0m 3ms/step - accuracy: 0.4861 - loss: 1.3594 - val_accuracy: 0.5368 - val_loss: 2.3138\n",
      "Epoch 15/128\n",
      "\u001b[1m23/23\u001b[0m \u001b[32m━━━━━━━━━━━━━━━━━━━━\u001b[0m\u001b[37m\u001b[0m \u001b[1m0s\u001b[0m 4ms/step - accuracy: 0.5271 - loss: 1.3888 - val_accuracy: 0.5844 - val_loss: 2.1998\n",
      "Epoch 16/128\n",
      "\u001b[1m23/23\u001b[0m \u001b[32m━━━━━━━━━━━━━━━━━━━━\u001b[0m\u001b[37m\u001b[0m \u001b[1m0s\u001b[0m 3ms/step - accuracy: 0.5432 - loss: 1.2397 - val_accuracy: 0.5714 - val_loss: 2.3158\n",
      "Epoch 17/128\n",
      "\u001b[1m23/23\u001b[0m \u001b[32m━━━━━━━━━━━━━━━━━━━━\u001b[0m\u001b[37m\u001b[0m \u001b[1m0s\u001b[0m 3ms/step - accuracy: 0.5378 - loss: 1.3007 - val_accuracy: 0.5671 - val_loss: 2.3087\n",
      "Epoch 18/128\n",
      "\u001b[1m23/23\u001b[0m \u001b[32m━━━━━━━━━━━━━━━━━━━━\u001b[0m\u001b[37m\u001b[0m \u001b[1m0s\u001b[0m 3ms/step - accuracy: 0.5320 - loss: 1.2606 - val_accuracy: 0.5974 - val_loss: 2.2167\n",
      "Epoch 19/128\n",
      "\u001b[1m23/23\u001b[0m \u001b[32m━━━━━━━━━━━━━━━━━━━━\u001b[0m\u001b[37m\u001b[0m \u001b[1m0s\u001b[0m 3ms/step - accuracy: 0.5653 - loss: 1.2379 - val_accuracy: 0.5195 - val_loss: 2.2812\n",
      "Epoch 20/128\n",
      "\u001b[1m23/23\u001b[0m \u001b[32m━━━━━━━━━━━━━━━━━━━━\u001b[0m\u001b[37m\u001b[0m \u001b[1m0s\u001b[0m 3ms/step - accuracy: 0.5208 - loss: 1.3057 - val_accuracy: 0.5887 - val_loss: 2.3589\n",
      "Epoch 21/128\n",
      "\u001b[1m23/23\u001b[0m \u001b[32m━━━━━━━━━━━━━━━━━━━━\u001b[0m\u001b[37m\u001b[0m \u001b[1m0s\u001b[0m 3ms/step - accuracy: 0.5782 - loss: 1.2284 - val_accuracy: 0.6277 - val_loss: 2.2868\n",
      "Epoch 22/128\n",
      "\u001b[1m23/23\u001b[0m \u001b[32m━━━━━━━━━━━━━━━━━━━━\u001b[0m\u001b[37m\u001b[0m \u001b[1m0s\u001b[0m 3ms/step - accuracy: 0.5814 - loss: 1.2340 - val_accuracy: 0.5887 - val_loss: 2.3706\n",
      "Epoch 23/128\n",
      "\u001b[1m23/23\u001b[0m \u001b[32m━━━━━━━━━━━━━━━━━━━━\u001b[0m\u001b[37m\u001b[0m \u001b[1m0s\u001b[0m 3ms/step - accuracy: 0.5815 - loss: 1.2174 - val_accuracy: 0.6061 - val_loss: 2.2523\n",
      "Epoch 24/128\n",
      "\u001b[1m23/23\u001b[0m \u001b[32m━━━━━━━━━━━━━━━━━━━━\u001b[0m\u001b[37m\u001b[0m \u001b[1m0s\u001b[0m 3ms/step - accuracy: 0.5893 - loss: 1.2430 - val_accuracy: 0.5758 - val_loss: 2.3586\n",
      "Epoch 25/128\n",
      "\u001b[1m23/23\u001b[0m \u001b[32m━━━━━━━━━━━━━━━━━━━━\u001b[0m\u001b[37m\u001b[0m \u001b[1m0s\u001b[0m 3ms/step - accuracy: 0.5837 - loss: 1.1925 - val_accuracy: 0.6190 - val_loss: 2.4892\n",
      "Epoch 26/128\n",
      "\u001b[1m23/23\u001b[0m \u001b[32m━━━━━━━━━━━━━━━━━━━━\u001b[0m\u001b[37m\u001b[0m \u001b[1m0s\u001b[0m 3ms/step - accuracy: 0.5752 - loss: 1.2054 - val_accuracy: 0.5758 - val_loss: 2.7488\n",
      "Epoch 27/128\n",
      "\u001b[1m23/23\u001b[0m \u001b[32m━━━━━━━━━━━━━━━━━━━━\u001b[0m\u001b[37m\u001b[0m \u001b[1m0s\u001b[0m 3ms/step - accuracy: 0.6134 - loss: 1.1131 - val_accuracy: 0.6320 - val_loss: 2.5484\n",
      "Epoch 28/128\n",
      "\u001b[1m23/23\u001b[0m \u001b[32m━━━━━━━━━━━━━━━━━━━━\u001b[0m\u001b[37m\u001b[0m \u001b[1m0s\u001b[0m 3ms/step - accuracy: 0.6092 - loss: 1.1291 - val_accuracy: 0.6494 - val_loss: 2.4748\n",
      "Epoch 29/128\n",
      "\u001b[1m23/23\u001b[0m \u001b[32m━━━━━━━━━━━━━━━━━━━━\u001b[0m\u001b[37m\u001b[0m \u001b[1m0s\u001b[0m 3ms/step - accuracy: 0.5709 - loss: 1.1803 - val_accuracy: 0.5671 - val_loss: 1.7379\n",
      "Epoch 30/128\n",
      "\u001b[1m23/23\u001b[0m \u001b[32m━━━━━━━━━━━━━━━━━━━━\u001b[0m\u001b[37m\u001b[0m \u001b[1m0s\u001b[0m 3ms/step - accuracy: 0.5185 - loss: 1.2959 - val_accuracy: 0.6190 - val_loss: 2.1966\n",
      "Epoch 31/128\n",
      "\u001b[1m23/23\u001b[0m \u001b[32m━━━━━━━━━━━━━━━━━━━━\u001b[0m\u001b[37m\u001b[0m \u001b[1m0s\u001b[0m 3ms/step - accuracy: 0.5837 - loss: 1.2242 - val_accuracy: 0.6537 - val_loss: 2.5905\n",
      "Epoch 32/128\n",
      "\u001b[1m23/23\u001b[0m \u001b[32m━━━━━━━━━━━━━━━━━━━━\u001b[0m\u001b[37m\u001b[0m \u001b[1m0s\u001b[0m 3ms/step - accuracy: 0.6005 - loss: 1.1578 - val_accuracy: 0.6147 - val_loss: 2.5027\n",
      "Epoch 33/128\n",
      "\u001b[1m23/23\u001b[0m \u001b[32m━━━━━━━━━━━━━━━━━━━━\u001b[0m\u001b[37m\u001b[0m \u001b[1m0s\u001b[0m 3ms/step - accuracy: 0.5915 - loss: 1.0789 - val_accuracy: 0.6753 - val_loss: 1.9749\n",
      "Epoch 34/128\n",
      "\u001b[1m23/23\u001b[0m \u001b[32m━━━━━━━━━━━━━━━━━━━━\u001b[0m\u001b[37m\u001b[0m \u001b[1m0s\u001b[0m 3ms/step - accuracy: 0.6574 - loss: 1.0053 - val_accuracy: 0.6450 - val_loss: 2.1714\n",
      "Epoch 35/128\n",
      "\u001b[1m23/23\u001b[0m \u001b[32m━━━━━━━━━━━━━━━━━━━━\u001b[0m\u001b[37m\u001b[0m \u001b[1m0s\u001b[0m 3ms/step - accuracy: 0.6355 - loss: 1.0367 - val_accuracy: 0.5628 - val_loss: 2.5216\n",
      "Epoch 36/128\n",
      "\u001b[1m23/23\u001b[0m \u001b[32m━━━━━━━━━━━━━━━━━━━━\u001b[0m\u001b[37m\u001b[0m \u001b[1m0s\u001b[0m 3ms/step - accuracy: 0.6001 - loss: 1.1328 - val_accuracy: 0.6580 - val_loss: 2.1699\n",
      "Epoch 37/128\n",
      "\u001b[1m23/23\u001b[0m \u001b[32m━━━━━━━━━━━━━━━━━━━━\u001b[0m\u001b[37m\u001b[0m \u001b[1m0s\u001b[0m 3ms/step - accuracy: 0.6477 - loss: 1.0438 - val_accuracy: 0.6364 - val_loss: 2.2934\n",
      "Epoch 38/128\n",
      "\u001b[1m23/23\u001b[0m \u001b[32m━━━━━━━━━━━━━━━━━━━━\u001b[0m\u001b[37m\u001b[0m \u001b[1m0s\u001b[0m 3ms/step - accuracy: 0.6331 - loss: 0.9716 - val_accuracy: 0.7229 - val_loss: 2.1654\n",
      "Epoch 39/128\n",
      "\u001b[1m23/23\u001b[0m \u001b[32m━━━━━━━━━━━━━━━━━━━━\u001b[0m\u001b[37m\u001b[0m \u001b[1m0s\u001b[0m 3ms/step - accuracy: 0.6790 - loss: 0.9639 - val_accuracy: 0.6753 - val_loss: 2.1523\n",
      "Epoch 40/128\n",
      "\u001b[1m23/23\u001b[0m \u001b[32m━━━━━━━━━━━━━━━━━━━━\u001b[0m\u001b[37m\u001b[0m \u001b[1m0s\u001b[0m 4ms/step - accuracy: 0.6530 - loss: 0.9552 - val_accuracy: 0.7143 - val_loss: 2.2106\n",
      "Epoch 41/128\n",
      "\u001b[1m23/23\u001b[0m \u001b[32m━━━━━━━━━━━━━━━━━━━━\u001b[0m\u001b[37m\u001b[0m \u001b[1m0s\u001b[0m 3ms/step - accuracy: 0.6706 - loss: 0.9900 - val_accuracy: 0.7186 - val_loss: 2.2350\n",
      "Epoch 42/128\n",
      "\u001b[1m23/23\u001b[0m \u001b[32m━━━━━━━━━━━━━━━━━━━━\u001b[0m\u001b[37m\u001b[0m \u001b[1m0s\u001b[0m 3ms/step - accuracy: 0.6954 - loss: 0.8879 - val_accuracy: 0.6753 - val_loss: 2.2930\n",
      "Epoch 43/128\n",
      "\u001b[1m23/23\u001b[0m \u001b[32m━━━━━━━━━━━━━━━━━━━━\u001b[0m\u001b[37m\u001b[0m \u001b[1m0s\u001b[0m 3ms/step - accuracy: 0.6780 - loss: 0.8903 - val_accuracy: 0.6797 - val_loss: 2.2309\n",
      "Epoch 44/128\n",
      "\u001b[1m23/23\u001b[0m \u001b[32m━━━━━━━━━━━━━━━━━━━━\u001b[0m\u001b[37m\u001b[0m \u001b[1m0s\u001b[0m 3ms/step - accuracy: 0.6966 - loss: 0.9154 - val_accuracy: 0.6840 - val_loss: 2.2512\n",
      "Epoch 45/128\n",
      "\u001b[1m23/23\u001b[0m \u001b[32m━━━━━━━━━━━━━━━━━━━━\u001b[0m\u001b[37m\u001b[0m \u001b[1m0s\u001b[0m 3ms/step - accuracy: 0.6866 - loss: 0.8942 - val_accuracy: 0.7143 - val_loss: 2.1202\n",
      "Epoch 46/128\n",
      "\u001b[1m23/23\u001b[0m \u001b[32m━━━━━━━━━━━━━━━━━━━━\u001b[0m\u001b[37m\u001b[0m \u001b[1m0s\u001b[0m 3ms/step - accuracy: 0.6917 - loss: 0.8898 - val_accuracy: 0.6797 - val_loss: 2.2623\n",
      "Epoch 47/128\n",
      "\u001b[1m23/23\u001b[0m \u001b[32m━━━━━━━━━━━━━━━━━━━━\u001b[0m\u001b[37m\u001b[0m \u001b[1m0s\u001b[0m 4ms/step - accuracy: 0.6869 - loss: 0.8742 - val_accuracy: 0.6970 - val_loss: 2.1705\n",
      "Epoch 48/128\n",
      "\u001b[1m23/23\u001b[0m \u001b[32m━━━━━━━━━━━━━━━━━━━━\u001b[0m\u001b[37m\u001b[0m \u001b[1m0s\u001b[0m 3ms/step - accuracy: 0.7048 - loss: 0.8615 - val_accuracy: 0.6667 - val_loss: 2.1757\n",
      "Epoch 49/128\n",
      "\u001b[1m23/23\u001b[0m \u001b[32m━━━━━━━━━━━━━━━━━━━━\u001b[0m\u001b[37m\u001b[0m \u001b[1m0s\u001b[0m 3ms/step - accuracy: 0.6850 - loss: 0.8577 - val_accuracy: 0.7056 - val_loss: 1.9948\n",
      "Epoch 50/128\n",
      "\u001b[1m23/23\u001b[0m \u001b[32m━━━━━━━━━━━━━━━━━━━━\u001b[0m\u001b[37m\u001b[0m \u001b[1m0s\u001b[0m 3ms/step - accuracy: 0.6871 - loss: 0.9131 - val_accuracy: 0.7143 - val_loss: 2.1315\n",
      "Epoch 51/128\n",
      "\u001b[1m23/23\u001b[0m \u001b[32m━━━━━━━━━━━━━━━━━━━━\u001b[0m\u001b[37m\u001b[0m \u001b[1m0s\u001b[0m 3ms/step - accuracy: 0.7089 - loss: 0.8106 - val_accuracy: 0.7100 - val_loss: 2.1344\n",
      "Epoch 52/128\n",
      "\u001b[1m23/23\u001b[0m \u001b[32m━━━━━━━━━━━━━━━━━━━━\u001b[0m\u001b[37m\u001b[0m \u001b[1m0s\u001b[0m 3ms/step - accuracy: 0.7003 - loss: 0.8544 - val_accuracy: 0.7100 - val_loss: 2.1980\n",
      "Epoch 53/128\n",
      "\u001b[1m23/23\u001b[0m \u001b[32m━━━━━━━━━━━━━━━━━━━━\u001b[0m\u001b[37m\u001b[0m \u001b[1m0s\u001b[0m 4ms/step - accuracy: 0.7169 - loss: 0.7967 - val_accuracy: 0.7056 - val_loss: 2.0256\n",
      "Epoch 54/128\n",
      "\u001b[1m23/23\u001b[0m \u001b[32m━━━━━━━━━━━━━━━━━━━━\u001b[0m\u001b[37m\u001b[0m \u001b[1m0s\u001b[0m 3ms/step - accuracy: 0.6996 - loss: 0.8217 - val_accuracy: 0.7143 - val_loss: 2.0484\n",
      "Epoch 55/128\n",
      "\u001b[1m23/23\u001b[0m \u001b[32m━━━━━━━━━━━━━━━━━━━━\u001b[0m\u001b[37m\u001b[0m \u001b[1m0s\u001b[0m 4ms/step - accuracy: 0.6904 - loss: 0.8495 - val_accuracy: 0.6970 - val_loss: 2.1294\n",
      "Epoch 56/128\n",
      "\u001b[1m23/23\u001b[0m \u001b[32m━━━━━━━━━━━━━━━━━━━━\u001b[0m\u001b[37m\u001b[0m \u001b[1m0s\u001b[0m 4ms/step - accuracy: 0.6879 - loss: 0.8255 - val_accuracy: 0.7013 - val_loss: 2.0793\n",
      "Epoch 57/128\n",
      "\u001b[1m23/23\u001b[0m \u001b[32m━━━━━━━━━━━━━━━━━━━━\u001b[0m\u001b[37m\u001b[0m \u001b[1m0s\u001b[0m 4ms/step - accuracy: 0.7230 - loss: 0.8149 - val_accuracy: 0.7013 - val_loss: 2.0879\n",
      "Epoch 58/128\n",
      "\u001b[1m23/23\u001b[0m \u001b[32m━━━━━━━━━━━━━━━━━━━━\u001b[0m\u001b[37m\u001b[0m \u001b[1m0s\u001b[0m 4ms/step - accuracy: 0.7127 - loss: 0.7921 - val_accuracy: 0.7273 - val_loss: 2.0030\n",
      "Epoch 59/128\n",
      "\u001b[1m23/23\u001b[0m \u001b[32m━━━━━━━━━━━━━━━━━━━━\u001b[0m\u001b[37m\u001b[0m \u001b[1m0s\u001b[0m 3ms/step - accuracy: 0.6915 - loss: 0.8541 - val_accuracy: 0.7446 - val_loss: 2.0959\n",
      "Epoch 60/128\n",
      "\u001b[1m23/23\u001b[0m \u001b[32m━━━━━━━━━━━━━━━━━━━━\u001b[0m\u001b[37m\u001b[0m \u001b[1m0s\u001b[0m 3ms/step - accuracy: 0.6948 - loss: 0.8388 - val_accuracy: 0.7576 - val_loss: 2.0266\n",
      "Epoch 61/128\n",
      "\u001b[1m23/23\u001b[0m \u001b[32m━━━━━━━━━━━━━━━━━━━━\u001b[0m\u001b[37m\u001b[0m \u001b[1m0s\u001b[0m 3ms/step - accuracy: 0.7333 - loss: 0.7682 - val_accuracy: 0.6926 - val_loss: 2.1236\n",
      "Epoch 62/128\n",
      "\u001b[1m23/23\u001b[0m \u001b[32m━━━━━━━━━━━━━━━━━━━━\u001b[0m\u001b[37m\u001b[0m \u001b[1m0s\u001b[0m 4ms/step - accuracy: 0.7142 - loss: 0.7734 - val_accuracy: 0.6667 - val_loss: 2.2333\n",
      "Epoch 63/128\n",
      "\u001b[1m23/23\u001b[0m \u001b[32m━━━━━━━━━━━━━━━━━━━━\u001b[0m\u001b[37m\u001b[0m \u001b[1m0s\u001b[0m 4ms/step - accuracy: 0.6789 - loss: 0.8351 - val_accuracy: 0.7229 - val_loss: 2.1502\n",
      "Epoch 64/128\n",
      "\u001b[1m23/23\u001b[0m \u001b[32m━━━━━━━━━━━━━━━━━━━━\u001b[0m\u001b[37m\u001b[0m \u001b[1m0s\u001b[0m 3ms/step - accuracy: 0.7314 - loss: 0.7408 - val_accuracy: 0.6797 - val_loss: 2.1975\n",
      "Epoch 65/128\n",
      "\u001b[1m23/23\u001b[0m \u001b[32m━━━━━━━━━━━━━━━━━━━━\u001b[0m\u001b[37m\u001b[0m \u001b[1m0s\u001b[0m 3ms/step - accuracy: 0.6938 - loss: 0.8349 - val_accuracy: 0.7229 - val_loss: 2.1573\n",
      "Epoch 66/128\n",
      "\u001b[1m23/23\u001b[0m \u001b[32m━━━━━━━━━━━━━━━━━━━━\u001b[0m\u001b[37m\u001b[0m \u001b[1m0s\u001b[0m 4ms/step - accuracy: 0.7605 - loss: 0.7319 - val_accuracy: 0.7273 - val_loss: 2.1810\n",
      "Epoch 67/128\n",
      "\u001b[1m23/23\u001b[0m \u001b[32m━━━━━━━━━━━━━━━━━━━━\u001b[0m\u001b[37m\u001b[0m \u001b[1m0s\u001b[0m 5ms/step - accuracy: 0.7246 - loss: 0.7474 - val_accuracy: 0.7662 - val_loss: 2.1517\n",
      "Epoch 68/128\n",
      "\u001b[1m23/23\u001b[0m \u001b[32m━━━━━━━━━━━━━━━━━━━━\u001b[0m\u001b[37m\u001b[0m \u001b[1m0s\u001b[0m 4ms/step - accuracy: 0.7658 - loss: 0.6791 - val_accuracy: 0.7446 - val_loss: 2.2557\n",
      "Epoch 69/128\n",
      "\u001b[1m23/23\u001b[0m \u001b[32m━━━━━━━━━━━━━━━━━━━━\u001b[0m\u001b[37m\u001b[0m \u001b[1m0s\u001b[0m 4ms/step - accuracy: 0.6945 - loss: 0.8062 - val_accuracy: 0.7013 - val_loss: 2.1716\n",
      "Epoch 70/128\n",
      "\u001b[1m23/23\u001b[0m \u001b[32m━━━━━━━━━━━━━━━━━━━━\u001b[0m\u001b[37m\u001b[0m \u001b[1m0s\u001b[0m 3ms/step - accuracy: 0.7062 - loss: 0.7807 - val_accuracy: 0.7446 - val_loss: 1.7453\n",
      "Epoch 71/128\n",
      "\u001b[1m23/23\u001b[0m \u001b[32m━━━━━━━━━━━━━━━━━━━━\u001b[0m\u001b[37m\u001b[0m \u001b[1m0s\u001b[0m 3ms/step - accuracy: 0.7425 - loss: 0.7421 - val_accuracy: 0.7273 - val_loss: 1.9259\n",
      "Epoch 72/128\n",
      "\u001b[1m23/23\u001b[0m \u001b[32m━━━━━━━━━━━━━━━━━━━━\u001b[0m\u001b[37m\u001b[0m \u001b[1m0s\u001b[0m 3ms/step - accuracy: 0.7587 - loss: 0.6738 - val_accuracy: 0.7576 - val_loss: 1.7258\n",
      "Epoch 73/128\n",
      "\u001b[1m23/23\u001b[0m \u001b[32m━━━━━━━━━━━━━━━━━━━━\u001b[0m\u001b[37m\u001b[0m \u001b[1m0s\u001b[0m 3ms/step - accuracy: 0.7723 - loss: 0.6958 - val_accuracy: 0.7662 - val_loss: 2.2625\n",
      "Epoch 74/128\n",
      "\u001b[1m23/23\u001b[0m \u001b[32m━━━━━━━━━━━━━━━━━━━━\u001b[0m\u001b[37m\u001b[0m \u001b[1m0s\u001b[0m 3ms/step - accuracy: 0.7768 - loss: 0.6837 - val_accuracy: 0.7879 - val_loss: 2.5451\n",
      "Epoch 75/128\n",
      "\u001b[1m23/23\u001b[0m \u001b[32m━━━━━━━━━━━━━━━━━━━━\u001b[0m\u001b[37m\u001b[0m \u001b[1m0s\u001b[0m 4ms/step - accuracy: 0.7300 - loss: 0.6905 - val_accuracy: 0.7359 - val_loss: 2.5436\n",
      "Epoch 76/128\n",
      "\u001b[1m23/23\u001b[0m \u001b[32m━━━━━━━━━━━━━━━━━━━━\u001b[0m\u001b[37m\u001b[0m \u001b[1m0s\u001b[0m 3ms/step - accuracy: 0.7705 - loss: 0.6789 - val_accuracy: 0.7056 - val_loss: 2.4717\n",
      "Epoch 77/128\n",
      "\u001b[1m23/23\u001b[0m \u001b[32m━━━━━━━━━━━━━━━━━━━━\u001b[0m\u001b[37m\u001b[0m \u001b[1m0s\u001b[0m 3ms/step - accuracy: 0.7611 - loss: 0.6889 - val_accuracy: 0.7792 - val_loss: 2.3296\n",
      "Epoch 78/128\n",
      "\u001b[1m23/23\u001b[0m \u001b[32m━━━━━━━━━━━━━━━━━━━━\u001b[0m\u001b[37m\u001b[0m \u001b[1m0s\u001b[0m 3ms/step - accuracy: 0.8076 - loss: 0.6110 - val_accuracy: 0.7446 - val_loss: 2.3387\n",
      "Epoch 79/128\n",
      "\u001b[1m23/23\u001b[0m \u001b[32m━━━━━━━━━━━━━━━━━━━━\u001b[0m\u001b[37m\u001b[0m \u001b[1m0s\u001b[0m 3ms/step - accuracy: 0.7370 - loss: 0.6867 - val_accuracy: 0.7619 - val_loss: 2.3460\n",
      "Epoch 80/128\n",
      "\u001b[1m23/23\u001b[0m \u001b[32m━━━━━━━━━━━━━━━━━━━━\u001b[0m\u001b[37m\u001b[0m \u001b[1m0s\u001b[0m 3ms/step - accuracy: 0.7742 - loss: 0.6487 - val_accuracy: 0.7576 - val_loss: 2.5494\n",
      "Epoch 81/128\n",
      "\u001b[1m23/23\u001b[0m \u001b[32m━━━━━━━━━━━━━━━━━━━━\u001b[0m\u001b[37m\u001b[0m \u001b[1m0s\u001b[0m 3ms/step - accuracy: 0.7673 - loss: 0.6358 - val_accuracy: 0.7446 - val_loss: 2.3275\n",
      "Epoch 82/128\n",
      "\u001b[1m23/23\u001b[0m \u001b[32m━━━━━━━━━━━━━━━━━━━━\u001b[0m\u001b[37m\u001b[0m \u001b[1m0s\u001b[0m 3ms/step - accuracy: 0.7664 - loss: 0.6743 - val_accuracy: 0.7749 - val_loss: 2.1595\n",
      "Epoch 83/128\n",
      "\u001b[1m23/23\u001b[0m \u001b[32m━━━━━━━━━━━━━━━━━━━━\u001b[0m\u001b[37m\u001b[0m \u001b[1m0s\u001b[0m 3ms/step - accuracy: 0.7818 - loss: 0.6337 - val_accuracy: 0.7835 - val_loss: 2.0936\n",
      "Epoch 84/128\n",
      "\u001b[1m23/23\u001b[0m \u001b[32m━━━━━━━━━━━━━━━━━━━━\u001b[0m\u001b[37m\u001b[0m \u001b[1m0s\u001b[0m 3ms/step - accuracy: 0.7810 - loss: 0.5954 - val_accuracy: 0.6623 - val_loss: 2.3143\n",
      "Epoch 85/128\n",
      "\u001b[1m23/23\u001b[0m \u001b[32m━━━━━━━━━━━━━━━━━━━━\u001b[0m\u001b[37m\u001b[0m \u001b[1m0s\u001b[0m 3ms/step - accuracy: 0.7691 - loss: 0.6438 - val_accuracy: 0.7576 - val_loss: 2.1875\n",
      "Epoch 86/128\n",
      "\u001b[1m23/23\u001b[0m \u001b[32m━━━━━━━━━━━━━━━━━━━━\u001b[0m\u001b[37m\u001b[0m \u001b[1m0s\u001b[0m 3ms/step - accuracy: 0.7674 - loss: 0.6518 - val_accuracy: 0.7489 - val_loss: 2.1757\n",
      "Epoch 87/128\n",
      "\u001b[1m23/23\u001b[0m \u001b[32m━━━━━━━━━━━━━━━━━━━━\u001b[0m\u001b[37m\u001b[0m \u001b[1m0s\u001b[0m 3ms/step - accuracy: 0.7815 - loss: 0.6325 - val_accuracy: 0.7965 - val_loss: 2.1038\n",
      "Epoch 88/128\n",
      "\u001b[1m23/23\u001b[0m \u001b[32m━━━━━━━━━━━━━━━━━━━━\u001b[0m\u001b[37m\u001b[0m \u001b[1m0s\u001b[0m 3ms/step - accuracy: 0.7911 - loss: 0.6138 - val_accuracy: 0.7619 - val_loss: 2.0497\n",
      "Epoch 89/128\n",
      "\u001b[1m23/23\u001b[0m \u001b[32m━━━━━━━━━━━━━━━━━━━━\u001b[0m\u001b[37m\u001b[0m \u001b[1m0s\u001b[0m 3ms/step - accuracy: 0.7840 - loss: 0.5817 - val_accuracy: 0.7619 - val_loss: 2.0257\n",
      "Epoch 90/128\n",
      "\u001b[1m23/23\u001b[0m \u001b[32m━━━━━━━━━━━━━━━━━━━━\u001b[0m\u001b[37m\u001b[0m \u001b[1m0s\u001b[0m 3ms/step - accuracy: 0.7764 - loss: 0.6355 - val_accuracy: 0.7403 - val_loss: 2.0467\n",
      "Epoch 91/128\n",
      "\u001b[1m23/23\u001b[0m \u001b[32m━━━━━━━━━━━━━━━━━━━━\u001b[0m\u001b[37m\u001b[0m \u001b[1m0s\u001b[0m 3ms/step - accuracy: 0.7434 - loss: 0.6818 - val_accuracy: 0.6580 - val_loss: 2.2602\n",
      "Epoch 92/128\n",
      "\u001b[1m23/23\u001b[0m \u001b[32m━━━━━━━━━━━━━━━━━━━━\u001b[0m\u001b[37m\u001b[0m \u001b[1m0s\u001b[0m 3ms/step - accuracy: 0.7379 - loss: 0.7651 - val_accuracy: 0.7879 - val_loss: 1.9730\n",
      "Epoch 93/128\n",
      "\u001b[1m23/23\u001b[0m \u001b[32m━━━━━━━━━━━━━━━━━━━━\u001b[0m\u001b[37m\u001b[0m \u001b[1m0s\u001b[0m 3ms/step - accuracy: 0.7942 - loss: 0.5830 - val_accuracy: 0.7532 - val_loss: 2.0325\n",
      "Epoch 94/128\n",
      "\u001b[1m23/23\u001b[0m \u001b[32m━━━━━━━━━━━━━━━━━━━━\u001b[0m\u001b[37m\u001b[0m \u001b[1m0s\u001b[0m 3ms/step - accuracy: 0.8013 - loss: 0.5642 - val_accuracy: 0.7100 - val_loss: 2.1196\n",
      "Epoch 95/128\n",
      "\u001b[1m23/23\u001b[0m \u001b[32m━━━━━━━━━━━━━━━━━━━━\u001b[0m\u001b[37m\u001b[0m \u001b[1m0s\u001b[0m 3ms/step - accuracy: 0.8055 - loss: 0.5512 - val_accuracy: 0.7706 - val_loss: 1.9647\n",
      "Epoch 96/128\n",
      "\u001b[1m23/23\u001b[0m \u001b[32m━━━━━━━━━━━━━━━━━━━━\u001b[0m\u001b[37m\u001b[0m \u001b[1m0s\u001b[0m 3ms/step - accuracy: 0.7578 - loss: 0.6597 - val_accuracy: 0.7879 - val_loss: 1.9127\n",
      "Epoch 97/128\n",
      "\u001b[1m23/23\u001b[0m \u001b[32m━━━━━━━━━━━━━━━━━━━━\u001b[0m\u001b[37m\u001b[0m \u001b[1m0s\u001b[0m 3ms/step - accuracy: 0.7827 - loss: 0.5897 - val_accuracy: 0.7359 - val_loss: 1.9409\n",
      "Epoch 98/128\n",
      "\u001b[1m23/23\u001b[0m \u001b[32m━━━━━━━━━━━━━━━━━━━━\u001b[0m\u001b[37m\u001b[0m \u001b[1m0s\u001b[0m 3ms/step - accuracy: 0.7921 - loss: 0.5628 - val_accuracy: 0.7706 - val_loss: 1.9481\n",
      "Epoch 99/128\n",
      "\u001b[1m23/23\u001b[0m \u001b[32m━━━━━━━━━━━━━━━━━━━━\u001b[0m\u001b[37m\u001b[0m \u001b[1m0s\u001b[0m 3ms/step - accuracy: 0.7840 - loss: 0.6077 - val_accuracy: 0.7835 - val_loss: 1.9400\n",
      "Epoch 100/128\n",
      "\u001b[1m23/23\u001b[0m \u001b[32m━━━━━━━━━━━━━━━━━━━━\u001b[0m\u001b[37m\u001b[0m \u001b[1m0s\u001b[0m 3ms/step - accuracy: 0.8216 - loss: 0.5238 - val_accuracy: 0.7749 - val_loss: 1.8685\n",
      "Epoch 101/128\n",
      "\u001b[1m23/23\u001b[0m \u001b[32m━━━━━━━━━━━━━━━━━━━━\u001b[0m\u001b[37m\u001b[0m \u001b[1m0s\u001b[0m 3ms/step - accuracy: 0.7978 - loss: 0.5429 - val_accuracy: 0.7576 - val_loss: 1.9013\n",
      "Epoch 102/128\n",
      "\u001b[1m23/23\u001b[0m \u001b[32m━━━━━━━━━━━━━━━━━━━━\u001b[0m\u001b[37m\u001b[0m \u001b[1m0s\u001b[0m 3ms/step - accuracy: 0.7773 - loss: 0.5993 - val_accuracy: 0.7922 - val_loss: 1.8775\n",
      "Epoch 103/128\n",
      "\u001b[1m23/23\u001b[0m \u001b[32m━━━━━━━━━━━━━━━━━━━━\u001b[0m\u001b[37m\u001b[0m \u001b[1m0s\u001b[0m 3ms/step - accuracy: 0.8206 - loss: 0.5245 - val_accuracy: 0.7576 - val_loss: 2.0187\n",
      "Epoch 104/128\n",
      "\u001b[1m23/23\u001b[0m \u001b[32m━━━━━━━━━━━━━━━━━━━━\u001b[0m\u001b[37m\u001b[0m \u001b[1m0s\u001b[0m 3ms/step - accuracy: 0.7873 - loss: 0.6107 - val_accuracy: 0.7403 - val_loss: 1.9369\n",
      "Epoch 105/128\n",
      "\u001b[1m23/23\u001b[0m \u001b[32m━━━━━━━━━━━━━━━━━━━━\u001b[0m\u001b[37m\u001b[0m \u001b[1m0s\u001b[0m 3ms/step - accuracy: 0.8042 - loss: 0.5653 - val_accuracy: 0.7619 - val_loss: 1.9676\n",
      "Epoch 106/128\n",
      "\u001b[1m23/23\u001b[0m \u001b[32m━━━━━━━━━━━━━━━━━━━━\u001b[0m\u001b[37m\u001b[0m \u001b[1m0s\u001b[0m 3ms/step - accuracy: 0.8138 - loss: 0.5312 - val_accuracy: 0.7489 - val_loss: 1.9333\n",
      "Epoch 107/128\n",
      "\u001b[1m23/23\u001b[0m \u001b[32m━━━━━━━━━━━━━━━━━━━━\u001b[0m\u001b[37m\u001b[0m \u001b[1m0s\u001b[0m 3ms/step - accuracy: 0.7840 - loss: 0.5984 - val_accuracy: 0.7273 - val_loss: 1.9669\n",
      "Epoch 108/128\n",
      "\u001b[1m23/23\u001b[0m \u001b[32m━━━━━━━━━━━━━━━━━━━━\u001b[0m\u001b[37m\u001b[0m \u001b[1m0s\u001b[0m 3ms/step - accuracy: 0.7872 - loss: 0.5826 - val_accuracy: 0.7056 - val_loss: 2.0808\n",
      "Epoch 109/128\n",
      "\u001b[1m23/23\u001b[0m \u001b[32m━━━━━━━━━━━━━━━━━━━━\u001b[0m\u001b[37m\u001b[0m \u001b[1m0s\u001b[0m 3ms/step - accuracy: 0.7730 - loss: 0.5994 - val_accuracy: 0.7922 - val_loss: 1.8185\n",
      "Epoch 110/128\n",
      "\u001b[1m23/23\u001b[0m \u001b[32m━━━━━━━━━━━━━━━━━━━━\u001b[0m\u001b[37m\u001b[0m \u001b[1m0s\u001b[0m 3ms/step - accuracy: 0.8277 - loss: 0.4998 - val_accuracy: 0.7576 - val_loss: 1.8890\n",
      "Epoch 111/128\n",
      "\u001b[1m23/23\u001b[0m \u001b[32m━━━━━━━━━━━━━━━━━━━━\u001b[0m\u001b[37m\u001b[0m \u001b[1m0s\u001b[0m 3ms/step - accuracy: 0.7779 - loss: 0.5663 - val_accuracy: 0.7619 - val_loss: 1.9259\n",
      "Epoch 112/128\n",
      "\u001b[1m23/23\u001b[0m \u001b[32m━━━━━━━━━━━━━━━━━━━━\u001b[0m\u001b[37m\u001b[0m \u001b[1m0s\u001b[0m 3ms/step - accuracy: 0.8023 - loss: 0.5597 - val_accuracy: 0.7792 - val_loss: 1.8022\n",
      "Epoch 113/128\n",
      "\u001b[1m23/23\u001b[0m \u001b[32m━━━━━━━━━━━━━━━━━━━━\u001b[0m\u001b[37m\u001b[0m \u001b[1m0s\u001b[0m 3ms/step - accuracy: 0.8191 - loss: 0.5379 - val_accuracy: 0.7706 - val_loss: 1.8668\n",
      "Epoch 114/128\n",
      "\u001b[1m23/23\u001b[0m \u001b[32m━━━━━━━━━━━━━━━━━━━━\u001b[0m\u001b[37m\u001b[0m \u001b[1m0s\u001b[0m 3ms/step - accuracy: 0.7968 - loss: 0.5917 - val_accuracy: 0.7706 - val_loss: 1.8443\n",
      "Epoch 115/128\n",
      "\u001b[1m23/23\u001b[0m \u001b[32m━━━━━━━━━━━━━━━━━━━━\u001b[0m\u001b[37m\u001b[0m \u001b[1m0s\u001b[0m 3ms/step - accuracy: 0.8636 - loss: 0.4534 - val_accuracy: 0.7965 - val_loss: 1.8186\n",
      "Epoch 116/128\n",
      "\u001b[1m23/23\u001b[0m \u001b[32m━━━━━━━━━━━━━━━━━━━━\u001b[0m\u001b[37m\u001b[0m \u001b[1m0s\u001b[0m 3ms/step - accuracy: 0.8072 - loss: 0.5259 - val_accuracy: 0.7662 - val_loss: 1.7914\n",
      "Epoch 117/128\n",
      "\u001b[1m23/23\u001b[0m \u001b[32m━━━━━━━━━━━━━━━━━━━━\u001b[0m\u001b[37m\u001b[0m \u001b[1m0s\u001b[0m 3ms/step - accuracy: 0.8256 - loss: 0.5134 - val_accuracy: 0.7879 - val_loss: 1.7245\n",
      "Epoch 118/128\n",
      "\u001b[1m23/23\u001b[0m \u001b[32m━━━━━━━━━━━━━━━━━━━━\u001b[0m\u001b[37m\u001b[0m \u001b[1m0s\u001b[0m 3ms/step - accuracy: 0.8208 - loss: 0.4831 - val_accuracy: 0.7489 - val_loss: 1.8309\n",
      "Epoch 119/128\n",
      "\u001b[1m23/23\u001b[0m \u001b[32m━━━━━━━━━━━━━━━━━━━━\u001b[0m\u001b[37m\u001b[0m \u001b[1m0s\u001b[0m 3ms/step - accuracy: 0.8243 - loss: 0.5032 - val_accuracy: 0.7965 - val_loss: 1.7647\n",
      "Epoch 120/128\n",
      "\u001b[1m23/23\u001b[0m \u001b[32m━━━━━━━━━━━━━━━━━━━━\u001b[0m\u001b[37m\u001b[0m \u001b[1m0s\u001b[0m 3ms/step - accuracy: 0.8417 - loss: 0.4912 - val_accuracy: 0.7835 - val_loss: 1.7836\n",
      "Epoch 121/128\n",
      "\u001b[1m23/23\u001b[0m \u001b[32m━━━━━━━━━━━━━━━━━━━━\u001b[0m\u001b[37m\u001b[0m \u001b[1m0s\u001b[0m 3ms/step - accuracy: 0.8252 - loss: 0.4577 - val_accuracy: 0.7359 - val_loss: 1.8700\n",
      "Epoch 122/128\n",
      "\u001b[1m23/23\u001b[0m \u001b[32m━━━━━━━━━━━━━━━━━━━━\u001b[0m\u001b[37m\u001b[0m \u001b[1m0s\u001b[0m 3ms/step - accuracy: 0.7586 - loss: 0.6078 - val_accuracy: 0.6970 - val_loss: 1.8658\n",
      "Epoch 123/128\n",
      "\u001b[1m23/23\u001b[0m \u001b[32m━━━━━━━━━━━━━━━━━━━━\u001b[0m\u001b[37m\u001b[0m \u001b[1m0s\u001b[0m 3ms/step - accuracy: 0.7882 - loss: 0.5611 - val_accuracy: 0.7879 - val_loss: 1.6046\n",
      "Epoch 124/128\n",
      "\u001b[1m23/23\u001b[0m \u001b[32m━━━━━━━━━━━━━━━━━━━━\u001b[0m\u001b[37m\u001b[0m \u001b[1m0s\u001b[0m 3ms/step - accuracy: 0.8272 - loss: 0.4983 - val_accuracy: 0.7403 - val_loss: 1.7402\n",
      "Epoch 125/128\n",
      "\u001b[1m23/23\u001b[0m \u001b[32m━━━━━━━━━━━━━━━━━━━━\u001b[0m\u001b[37m\u001b[0m \u001b[1m0s\u001b[0m 3ms/step - accuracy: 0.8322 - loss: 0.4934 - val_accuracy: 0.7922 - val_loss: 1.6015\n",
      "Epoch 126/128\n",
      "\u001b[1m23/23\u001b[0m \u001b[32m━━━━━━━━━━━━━━━━━━━━\u001b[0m\u001b[37m\u001b[0m \u001b[1m0s\u001b[0m 3ms/step - accuracy: 0.8440 - loss: 0.4305 - val_accuracy: 0.7879 - val_loss: 1.6125\n",
      "Epoch 127/128\n",
      "\u001b[1m23/23\u001b[0m \u001b[32m━━━━━━━━━━━━━━━━━━━━\u001b[0m\u001b[37m\u001b[0m \u001b[1m0s\u001b[0m 3ms/step - accuracy: 0.8431 - loss: 0.4577 - val_accuracy: 0.7879 - val_loss: 1.6196\n",
      "Epoch 128/128\n",
      "\u001b[1m23/23\u001b[0m \u001b[32m━━━━━━━━━━━━━━━━━━━━\u001b[0m\u001b[37m\u001b[0m \u001b[1m0s\u001b[0m 3ms/step - accuracy: 0.8608 - loss: 0.4077 - val_accuracy: 0.7403 - val_loss: 1.6836\n"
     ]
    },
    {
     "data": {
      "text/plain": [
       "<keras.src.callbacks.history.History at 0x7ab0df32ea10>"
      ]
     },
     "execution_count": 15,
     "metadata": {},
     "output_type": "execute_result"
    }
   ],
   "source": [
    "model.fit(x_train,y_train,epochs =128,batch_size=32,validation_split=0.24)"
   ]
  },
  {
   "cell_type": "code",
   "execution_count": 16,
   "id": "36360e0f",
   "metadata": {
    "execution": {
     "iopub.execute_input": "2024-12-05T19:10:43.450845Z",
     "iopub.status.busy": "2024-12-05T19:10:43.450429Z",
     "iopub.status.idle": "2024-12-05T19:10:43.455642Z",
     "shell.execute_reply": "2024-12-05T19:10:43.454480Z"
    },
    "papermill": {
     "duration": 0.036179,
     "end_time": "2024-12-05T19:10:43.458922",
     "exception": false,
     "start_time": "2024-12-05T19:10:43.422743",
     "status": "completed"
    },
    "tags": []
   },
   "outputs": [],
   "source": [
    "### burada ranstgele değerden bak model.predict([[9.4,34,58,2.8,4.3,3.3,8.8,32,78,24,26,155,15,0.17]])"
   ]
  },
  {
   "cell_type": "code",
   "execution_count": 17,
   "id": "03a01db8",
   "metadata": {
    "execution": {
     "iopub.execute_input": "2024-12-05T19:10:43.514108Z",
     "iopub.status.busy": "2024-12-05T19:10:43.513633Z",
     "iopub.status.idle": "2024-12-05T19:10:43.652950Z",
     "shell.execute_reply": "2024-12-05T19:10:43.651524Z"
    },
    "papermill": {
     "duration": 0.169764,
     "end_time": "2024-12-05T19:10:43.656115",
     "exception": false,
     "start_time": "2024-12-05T19:10:43.486351",
     "status": "completed"
    },
    "tags": []
   },
   "outputs": [
    {
     "name": "stdout",
     "output_type": "stream",
     "text": [
      "\u001b[1m1/1\u001b[0m \u001b[32m━━━━━━━━━━━━━━━━━━━━\u001b[0m\u001b[37m\u001b[0m \u001b[1m0s\u001b[0m 77ms/step\n"
     ]
    }
   ],
   "source": [
    "tahmin = np.array([[9.4,34,58,2.8,4.3,3.3,8.8,32,78,24,26,155,15,0.17]])\n",
    "sonuc=model.predict(tahmin)"
   ]
  },
  {
   "cell_type": "code",
   "execution_count": 18,
   "id": "b44ad774",
   "metadata": {
    "execution": {
     "iopub.execute_input": "2024-12-05T19:10:43.709458Z",
     "iopub.status.busy": "2024-12-05T19:10:43.709036Z",
     "iopub.status.idle": "2024-12-05T19:10:43.716501Z",
     "shell.execute_reply": "2024-12-05T19:10:43.715186Z"
    },
    "papermill": {
     "duration": 0.037159,
     "end_time": "2024-12-05T19:10:43.718952",
     "exception": false,
     "start_time": "2024-12-05T19:10:43.681793",
     "status": "completed"
    },
    "tags": []
   },
   "outputs": [
    {
     "data": {
      "text/plain": [
       "5"
      ]
     },
     "execution_count": 18,
     "metadata": {},
     "output_type": "execute_result"
    }
   ],
   "source": [
    "np.argmax(sonuc)"
   ]
  },
  {
   "cell_type": "code",
   "execution_count": 19,
   "id": "097c54ec",
   "metadata": {
    "execution": {
     "iopub.execute_input": "2024-12-05T19:10:43.775348Z",
     "iopub.status.busy": "2024-12-05T19:10:43.774840Z",
     "iopub.status.idle": "2024-12-05T19:10:43.783913Z",
     "shell.execute_reply": "2024-12-05T19:10:43.782708Z"
    },
    "papermill": {
     "duration": 0.04096,
     "end_time": "2024-12-05T19:10:43.786390",
     "exception": false,
     "start_time": "2024-12-05T19:10:43.745430",
     "status": "completed"
    },
    "tags": []
   },
   "outputs": [
    {
     "data": {
      "text/plain": [
       "array(['Normocytic hypochromic anemia'], dtype=object)"
      ]
     },
     "execution_count": 19,
     "metadata": {},
     "output_type": "execute_result"
    }
   ],
   "source": [
    "le.inverse_transform([5])"
   ]
  }
 ],
 "metadata": {
  "kaggle": {
   "accelerator": "none",
   "dataSources": [
    {
     "datasetId": 4994222,
     "sourceId": 8395079,
     "sourceType": "datasetVersion"
    }
   ],
   "dockerImageVersionId": 30804,
   "isGpuEnabled": false,
   "isInternetEnabled": true,
   "language": "python",
   "sourceType": "notebook"
  },
  "kernelspec": {
   "display_name": "Python 3",
   "language": "python",
   "name": "python3"
  },
  "language_info": {
   "codemirror_mode": {
    "name": "ipython",
    "version": 3
   },
   "file_extension": ".py",
   "mimetype": "text/x-python",
   "name": "python",
   "nbconvert_exporter": "python",
   "pygments_lexer": "ipython3",
   "version": "3.10.14"
  },
  "papermill": {
   "default_parameters": {},
   "duration": 38.16846,
   "end_time": "2024-12-05T19:10:45.541173",
   "environment_variables": {},
   "exception": null,
   "input_path": "__notebook__.ipynb",
   "output_path": "__notebook__.ipynb",
   "parameters": {},
   "start_time": "2024-12-05T19:10:07.372713",
   "version": "2.6.0"
  }
 },
 "nbformat": 4,
 "nbformat_minor": 5
}
